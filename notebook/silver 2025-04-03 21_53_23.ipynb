{
 "cells": [
  {
   "cell_type": "code",
   "execution_count": 0,
   "metadata": {
    "application/vnd.databricks.v1+cell": {
     "cellMetadata": {
      "byteLimit": 2048000,
      "rowLimit": 10000
     },
     "inputWidgets": {},
     "nuid": "3e01b8fb-60a1-4681-9621-175e87ab61d6",
     "showTitle": false,
     "tableResultSettingsMap": {},
     "title": ""
    }
   },
   "outputs": [],
   "source": [
    "import pandas as pd\n",
    "import logging"
   ]
  },
  {
   "cell_type": "code",
   "execution_count": 0,
   "metadata": {
    "application/vnd.databricks.v1+cell": {
     "cellMetadata": {
      "byteLimit": 2048000,
      "rowLimit": 10000
     },
     "inputWidgets": {},
     "nuid": "ed820cbf-c271-4911-9b78-4bbc34073eac",
     "showTitle": false,
     "tableResultSettingsMap": {},
     "title": ""
    }
   },
   "outputs": [],
   "source": [
    "spark.conf.set(\"fs.azure.account.key.smriti1210.dfs.core.windows.net\", \"kObhK7P2+/sWkmoKnJt5YcG1kjFbBtapCHOZhCcMn8P5/KO0UsiG5zrvJgmwHVONBVvzqcc3HxZT+AStPxjVDQ==\")"
   ]
  },
  {
   "cell_type": "code",
   "execution_count": 0,
   "metadata": {
    "application/vnd.databricks.v1+cell": {
     "cellMetadata": {
      "byteLimit": 2048000,
      "rowLimit": 10000
     },
     "inputWidgets": {},
     "nuid": "3b64e2f3-d683-43b3-bca6-14d76c600bc5",
     "showTitle": false,
     "tableResultSettingsMap": {},
     "title": ""
    }
   },
   "outputs": [],
   "source": [
    "bronze_log_path = \"abfss://bronze@smriti1210.dfs.core.windows.net/logs/\""
   ]
  },
  {
   "cell_type": "code",
   "execution_count": 0,
   "metadata": {
    "application/vnd.databricks.v1+cell": {
     "cellMetadata": {
      "byteLimit": 2048000,
      "rowLimit": 10000
     },
     "inputWidgets": {},
     "nuid": "c9fd836e-43a5-418f-a4c0-68904ce8d1a0",
     "showTitle": false,
     "tableResultSettingsMap": {},
     "title": ""
    }
   },
   "outputs": [],
   "source": [
    "import datetime\n",
    "from pyspark.sql import SparkSession\n",
    "bronze_log_path = \"abfss://bronze@smriti1210.dfs.core.windows.net/logs/\"\n",
    "log_data = []\n",
    "current_time = datetime.datetime.now().strftime(\"%Y-%m-%d %H:%M:%S\")"
   ]
  },
  {
   "cell_type": "code",
   "execution_count": 0,
   "metadata": {
    "application/vnd.databricks.v1+cell": {
     "cellMetadata": {
      "byteLimit": 2048000,
      "rowLimit": 10000
     },
     "inputWidgets": {},
     "nuid": "f77fccd1-4a3b-4834-bf47-973a09a6f62e",
     "showTitle": false,
     "tableResultSettingsMap": {},
     "title": ""
    }
   },
   "outputs": [],
   "source": [
    "try:\n",
    "    df_team = spark.read.parquet(\"abfss://silver@smriti1210.dfs.core.windows.net/team_silver.parquet\")\n",
    "    df_player_team = spark.read.parquet(\"abfss://silver@smriti1210.dfs.core.windows.net/player_team_silver.parquet\")\n",
    "    df_match_perf = spark.read.parquet(\"abfss://silver@smriti1210.dfs.core.windows.net/match_performance_silver.parquet\")\n",
    "    df_stadium = spark.read.parquet(\"abfss://silver@smriti1210.dfs.core.windows.net/stadium_silver.parquet\")\n",
    "    df_match_stadium = spark.read.parquet(\"abfss://silver@smriti1210.dfs.core.windows.net/match_stadium_silver.parquet\")\n",
    "    df_player_perf = spark.read.parquet(\"abfss://silver@smriti1210.dfs.core.windows.net/player_performance_silver.parquet\")\n",
    "    log_data.append([current_time, \"Success\"])\n",
    "except Exception as e:\n",
    "    log_data.append([current_time, \"Error\"])  "
   ]
  },
  {
   "cell_type": "code",
   "execution_count": 0,
   "metadata": {
    "application/vnd.databricks.v1+cell": {
     "cellMetadata": {
      "byteLimit": 2048000,
      "rowLimit": 10000
     },
     "inputWidgets": {},
     "nuid": "35d6c1bd-1d7d-4f42-bfeb-9840c90b18cb",
     "showTitle": false,
     "tableResultSettingsMap": {},
     "title": ""
    }
   },
   "outputs": [
    {
     "data": {
      "text/html": [
       "<style scoped>\n",
       "  .table-result-container {\n",
       "    max-height: 300px;\n",
       "    overflow: auto;\n",
       "  }\n",
       "  table, th, td {\n",
       "    border: 1px solid black;\n",
       "    border-collapse: collapse;\n",
       "  }\n",
       "  th, td {\n",
       "    padding: 5px;\n",
       "  }\n",
       "  th {\n",
       "    text-align: left;\n",
       "  }\n",
       "</style><div class='table-result-container'><table class='table-result'><thead style='background-color: white'><tr><th>match_id</th><th>player_id</th><th>runs_scored_match</th><th>wickets_taken_match</th><th>ball_taken</th></tr></thead><tbody><tr><td>214</td><td>101</td><td>82</td><td>2</td><td>50</td></tr><tr><td>211</td><td>102</td><td>97</td><td>2</td><td>50</td></tr><tr><td>207</td><td>103</td><td>29</td><td>2</td><td>50</td></tr><tr><td>218</td><td>104</td><td>14</td><td>3</td><td>50</td></tr><tr><td>209</td><td>105</td><td>5</td><td>1</td><td>50</td></tr><tr><td>218</td><td>106</td><td>44</td><td>1</td><td>50</td></tr><tr><td>202</td><td>107</td><td>68</td><td>2</td><td>50</td></tr><tr><td>213</td><td>108</td><td>94</td><td>4</td><td>50</td></tr><tr><td>215</td><td>109</td><td>93</td><td>2</td><td>50</td></tr><tr><td>219</td><td>110</td><td>75</td><td>3</td><td>50</td></tr><tr><td>204</td><td>111</td><td>38</td><td>2</td><td>50</td></tr><tr><td>215</td><td>112</td><td>15</td><td>0</td><td>50</td></tr><tr><td>217</td><td>113</td><td>70</td><td>1</td><td>50</td></tr><tr><td>218</td><td>114</td><td>81</td><td>1</td><td>50</td></tr><tr><td>205</td><td>115</td><td>85</td><td>0</td><td>50</td></tr><tr><td>214</td><td>116</td><td>58</td><td>4</td><td>50</td></tr><tr><td>208</td><td>117</td><td>35</td><td>4</td><td>50</td></tr><tr><td>203</td><td>118</td><td>80</td><td>1</td><td>50</td></tr><tr><td>213</td><td>119</td><td>21</td><td>3</td><td>50</td></tr><tr><td>216</td><td>120</td><td>75</td><td>0</td><td>50</td></tr></tbody></table></div>"
      ]
     },
     "metadata": {
      "application/vnd.databricks.v1+output": {
       "addedWidgets": {},
       "aggData": [],
       "aggError": "",
       "aggOverflow": false,
       "aggSchema": [],
       "aggSeriesLimitReached": false,
       "aggType": "",
       "arguments": {},
       "columnCustomDisplayInfos": {},
       "data": [
        [
         214,
         101,
         82,
         2,
         50
        ],
        [
         211,
         102,
         97,
         2,
         50
        ],
        [
         207,
         103,
         29,
         2,
         50
        ],
        [
         218,
         104,
         14,
         3,
         50
        ],
        [
         209,
         105,
         5,
         1,
         50
        ],
        [
         218,
         106,
         44,
         1,
         50
        ],
        [
         202,
         107,
         68,
         2,
         50
        ],
        [
         213,
         108,
         94,
         4,
         50
        ],
        [
         215,
         109,
         93,
         2,
         50
        ],
        [
         219,
         110,
         75,
         3,
         50
        ],
        [
         204,
         111,
         38,
         2,
         50
        ],
        [
         215,
         112,
         15,
         0,
         50
        ],
        [
         217,
         113,
         70,
         1,
         50
        ],
        [
         218,
         114,
         81,
         1,
         50
        ],
        [
         205,
         115,
         85,
         0,
         50
        ],
        [
         214,
         116,
         58,
         4,
         50
        ],
        [
         208,
         117,
         35,
         4,
         50
        ],
        [
         203,
         118,
         80,
         1,
         50
        ],
        [
         213,
         119,
         21,
         3,
         50
        ],
        [
         216,
         120,
         75,
         0,
         50
        ]
       ],
       "datasetInfos": [],
       "dbfsResultPath": null,
       "isJsonSchema": true,
       "metadata": {},
       "overflow": false,
       "plotOptions": {
        "customPlotOptions": {},
        "displayType": "table",
        "pivotAggregation": null,
        "pivotColumns": null,
        "xColumns": null,
        "yColumns": null
       },
       "removedWidgets": [],
       "schema": [
        {
         "metadata": "{}",
         "name": "match_id",
         "type": "\"integer\""
        },
        {
         "metadata": "{}",
         "name": "player_id",
         "type": "\"integer\""
        },
        {
         "metadata": "{}",
         "name": "runs_scored_match",
         "type": "\"integer\""
        },
        {
         "metadata": "{}",
         "name": "wickets_taken_match",
         "type": "\"integer\""
        },
        {
         "metadata": "{}",
         "name": "ball_taken",
         "type": "\"integer\""
        }
       ],
       "type": "table"
      }
     },
     "output_type": "display_data"
    }
   ],
   "source": [
    "try:\n",
    "    df_player_perf= df_player_perf.withColumnRenamed(\"runs_scored\", \"runs_scored_match\")\n",
    "    df_player_perf = df_player_perf.withColumnRenamed(\"wickets_taken\", \"wickets_taken_match\")\n",
    "    df_player_perf.display()\n",
    "    log_data.append([current_time, \"Success\"])\n",
    "except Exception as e:\n",
    "    log_data.append([current_time, \"Error\"])"
   ]
  },
  {
   "cell_type": "code",
   "execution_count": 0,
   "metadata": {
    "application/vnd.databricks.v1+cell": {
     "cellMetadata": {
      "byteLimit": 2048000,
      "rowLimit": 10000
     },
     "inputWidgets": {},
     "nuid": "e845a513-f59c-4295-b590-32888400eebc",
     "showTitle": false,
     "tableResultSettingsMap": {},
     "title": ""
    }
   },
   "outputs": [],
   "source": [
    "from pyspark.sql.functions import current_date, input_file_name,regexp_extract\n",
    "try:\n",
    "    df_team = df_team.withColumn(\"ingestion_date\", current_date()).withColumn(\"source_file\", regexp_extract(input_file_name(), r\"([^/]+$)\", 1))\n",
    "    df_match_perf = df_match_perf.withColumn(\"ingestion_date\", current_date()).withColumn(\"source_file\", regexp_extract(input_file_name(), r\"([^/]+$)\", 1))\n",
    "    df_player_perf = df_player_perf.withColumn(\"ingestion_date\", current_date()).withColumn(\"source_file\", regexp_extract(input_file_name(), r\"([^/]+$)\", 1))\n",
    "    df_stadium = df_stadium.withColumn(\"ingestion_date\", current_date()).withColumn(\"source_file\", regexp_extract(input_file_name(), r\"([^/]+$)\", 1))\n",
    "    df_player_team = df_player_team.withColumn(\"ingestion_date\", current_date()).withColumn(\"source_file\", regexp_extract(input_file_name(), r\"([^/]+$)\", 1))\n",
    "    df_match_stadium = df_match_stadium.withColumn(\"ingestion_date\", current_date()).withColumn(\"source_file\", regexp_extract(input_file_name(), r\"([^/]+$)\", 1))\n",
    "    log_data.append([current_time, \"Success\"])\n",
    "except Exception as e:\n",
    "    log_data.append([current_time, \"Error\"])    "
   ]
  },
  {
   "cell_type": "markdown",
   "metadata": {
    "application/vnd.databricks.v1+cell": {
     "cellMetadata": {
      "byteLimit": 2048000,
      "rowLimit": 10000
     },
     "inputWidgets": {},
     "nuid": "8d4d380c-b169-460d-ab36-fbb15349d3db",
     "showTitle": false,
     "tableResultSettingsMap": {},
     "title": ""
    }
   },
   "source": [
    "changing data type of runs_scored column from double to integer"
   ]
  },
  {
   "cell_type": "code",
   "execution_count": 0,
   "metadata": {
    "application/vnd.databricks.v1+cell": {
     "cellMetadata": {
      "byteLimit": 2048000,
      "rowLimit": 10000
     },
     "inputWidgets": {},
     "nuid": "0bb29f31-9e0d-4cf1-9100-122120cd3eb1",
     "showTitle": false,
     "tableResultSettingsMap": {},
     "title": ""
    }
   },
   "outputs": [
    {
     "name": "stdout",
     "output_type": "stream",
     "text": [
      "root\n",
      " |-- match_id: integer (nullable = true)\n",
      " |-- team_id: integer (nullable = true)\n",
      " |-- opponent_team_id: integer (nullable = true)\n",
      " |-- runs_scored: integer (nullable = true)\n",
      " |-- wickets_taken: integer (nullable = true)\n",
      " |-- match_result: string (nullable = true)\n",
      " |-- ingestion_date: date (nullable = false)\n",
      " |-- source_file: string (nullable = false)\n",
      "\n"
     ]
    },
    {
     "data": {
      "text/html": [
       "<style scoped>\n",
       "  .table-result-container {\n",
       "    max-height: 300px;\n",
       "    overflow: auto;\n",
       "  }\n",
       "  table, th, td {\n",
       "    border: 1px solid black;\n",
       "    border-collapse: collapse;\n",
       "  }\n",
       "  th, td {\n",
       "    padding: 5px;\n",
       "  }\n",
       "  th {\n",
       "    text-align: left;\n",
       "  }\n",
       "</style><div class='table-result-container'><table class='table-result'><thead style='background-color: white'><tr><th>match_id</th><th>team_id</th><th>opponent_team_id</th><th>runs_scored</th><th>wickets_taken</th><th>match_result</th><th>ingestion_date</th><th>source_file</th></tr></thead><tbody><tr><td>201</td><td>4</td><td>1</td><td>213</td><td>7</td><td>Tie</td><td>2025-04-05</td><td>part-00000-tid-357594500221985489-0eac6711-f0ff-46ca-8efa-2990296365fe-713-1-c000.snappy.parquet</td></tr><tr><td>202</td><td>1</td><td>3</td><td>202</td><td>10</td><td>Loss</td><td>2025-04-05</td><td>part-00000-tid-357594500221985489-0eac6711-f0ff-46ca-8efa-2990296365fe-713-1-c000.snappy.parquet</td></tr><tr><td>203</td><td>2</td><td>3</td><td>238</td><td>8</td><td>Win</td><td>2025-04-05</td><td>part-00000-tid-357594500221985489-0eac6711-f0ff-46ca-8efa-2990296365fe-713-1-c000.snappy.parquet</td></tr><tr><td>204</td><td>4</td><td>3</td><td>null</td><td>9</td><td>Loss</td><td>2025-04-05</td><td>part-00000-tid-357594500221985489-0eac6711-f0ff-46ca-8efa-2990296365fe-713-1-c000.snappy.parquet</td></tr><tr><td>205</td><td>4</td><td>3</td><td>123</td><td>8</td><td>Tie</td><td>2025-04-05</td><td>part-00000-tid-357594500221985489-0eac6711-f0ff-46ca-8efa-2990296365fe-713-1-c000.snappy.parquet</td></tr><tr><td>206</td><td>1</td><td>2</td><td>215</td><td>6</td><td>Loss</td><td>2025-04-05</td><td>part-00000-tid-357594500221985489-0eac6711-f0ff-46ca-8efa-2990296365fe-713-1-c000.snappy.parquet</td></tr><tr><td>207</td><td>5</td><td>3</td><td>211</td><td>5</td><td>Win</td><td>2025-04-05</td><td>part-00000-tid-357594500221985489-0eac6711-f0ff-46ca-8efa-2990296365fe-713-1-c000.snappy.parquet</td></tr><tr><td>208</td><td>3</td><td>5</td><td>171</td><td>6</td><td>Unknown</td><td>2025-04-05</td><td>part-00000-tid-357594500221985489-0eac6711-f0ff-46ca-8efa-2990296365fe-713-1-c000.snappy.parquet</td></tr><tr><td>209</td><td>4</td><td>1</td><td>201</td><td>5</td><td>Tie</td><td>2025-04-05</td><td>part-00000-tid-357594500221985489-0eac6711-f0ff-46ca-8efa-2990296365fe-713-1-c000.snappy.parquet</td></tr><tr><td>210</td><td>4</td><td>3</td><td>233</td><td>7</td><td>Win</td><td>2025-04-05</td><td>part-00000-tid-357594500221985489-0eac6711-f0ff-46ca-8efa-2990296365fe-713-1-c000.snappy.parquet</td></tr><tr><td>211</td><td>5</td><td>1</td><td>144</td><td>10</td><td>Loss</td><td>2025-04-05</td><td>part-00000-tid-357594500221985489-0eac6711-f0ff-46ca-8efa-2990296365fe-713-1-c000.snappy.parquet</td></tr><tr><td>212</td><td>1</td><td>5</td><td>227</td><td>6</td><td>Win</td><td>2025-04-05</td><td>part-00000-tid-357594500221985489-0eac6711-f0ff-46ca-8efa-2990296365fe-713-1-c000.snappy.parquet</td></tr><tr><td>213</td><td>4</td><td>2</td><td>190</td><td>9</td><td>Loss</td><td>2025-04-05</td><td>part-00000-tid-357594500221985489-0eac6711-f0ff-46ca-8efa-2990296365fe-713-1-c000.snappy.parquet</td></tr><tr><td>214</td><td>1</td><td>3</td><td>201</td><td>8</td><td>Win</td><td>2025-04-05</td><td>part-00000-tid-357594500221985489-0eac6711-f0ff-46ca-8efa-2990296365fe-713-1-c000.snappy.parquet</td></tr><tr><td>215</td><td>1</td><td>3</td><td>242</td><td>8</td><td>Win</td><td>2025-04-05</td><td>part-00000-tid-357594500221985489-0eac6711-f0ff-46ca-8efa-2990296365fe-713-1-c000.snappy.parquet</td></tr><tr><td>216</td><td>4</td><td>1</td><td>139</td><td>8</td><td>Win</td><td>2025-04-05</td><td>part-00000-tid-357594500221985489-0eac6711-f0ff-46ca-8efa-2990296365fe-713-1-c000.snappy.parquet</td></tr><tr><td>217</td><td>5</td><td>4</td><td>238</td><td>6</td><td>Loss</td><td>2025-04-05</td><td>part-00000-tid-357594500221985489-0eac6711-f0ff-46ca-8efa-2990296365fe-713-1-c000.snappy.parquet</td></tr><tr><td>218</td><td>2</td><td>1</td><td>190</td><td>5</td><td>Tie</td><td>2025-04-05</td><td>part-00000-tid-357594500221985489-0eac6711-f0ff-46ca-8efa-2990296365fe-713-1-c000.snappy.parquet</td></tr><tr><td>219</td><td>2</td><td>3</td><td>194</td><td>7</td><td>Loss</td><td>2025-04-05</td><td>part-00000-tid-357594500221985489-0eac6711-f0ff-46ca-8efa-2990296365fe-713-1-c000.snappy.parquet</td></tr><tr><td>220</td><td>3</td><td>1</td><td>130</td><td>9</td><td>Loss</td><td>2025-04-05</td><td>part-00000-tid-357594500221985489-0eac6711-f0ff-46ca-8efa-2990296365fe-713-1-c000.snappy.parquet</td></tr></tbody></table></div>"
      ]
     },
     "metadata": {
      "application/vnd.databricks.v1+output": {
       "addedWidgets": {},
       "aggData": [],
       "aggError": "",
       "aggOverflow": false,
       "aggSchema": [],
       "aggSeriesLimitReached": false,
       "aggType": "",
       "arguments": {},
       "columnCustomDisplayInfos": {},
       "data": [
        [
         201,
         4,
         1,
         213,
         7,
         "Tie",
         "2025-04-05",
         "part-00000-tid-357594500221985489-0eac6711-f0ff-46ca-8efa-2990296365fe-713-1-c000.snappy.parquet"
        ],
        [
         202,
         1,
         3,
         202,
         10,
         "Loss",
         "2025-04-05",
         "part-00000-tid-357594500221985489-0eac6711-f0ff-46ca-8efa-2990296365fe-713-1-c000.snappy.parquet"
        ],
        [
         203,
         2,
         3,
         238,
         8,
         "Win",
         "2025-04-05",
         "part-00000-tid-357594500221985489-0eac6711-f0ff-46ca-8efa-2990296365fe-713-1-c000.snappy.parquet"
        ],
        [
         204,
         4,
         3,
         null,
         9,
         "Loss",
         "2025-04-05",
         "part-00000-tid-357594500221985489-0eac6711-f0ff-46ca-8efa-2990296365fe-713-1-c000.snappy.parquet"
        ],
        [
         205,
         4,
         3,
         123,
         8,
         "Tie",
         "2025-04-05",
         "part-00000-tid-357594500221985489-0eac6711-f0ff-46ca-8efa-2990296365fe-713-1-c000.snappy.parquet"
        ],
        [
         206,
         1,
         2,
         215,
         6,
         "Loss",
         "2025-04-05",
         "part-00000-tid-357594500221985489-0eac6711-f0ff-46ca-8efa-2990296365fe-713-1-c000.snappy.parquet"
        ],
        [
         207,
         5,
         3,
         211,
         5,
         "Win",
         "2025-04-05",
         "part-00000-tid-357594500221985489-0eac6711-f0ff-46ca-8efa-2990296365fe-713-1-c000.snappy.parquet"
        ],
        [
         208,
         3,
         5,
         171,
         6,
         "Unknown",
         "2025-04-05",
         "part-00000-tid-357594500221985489-0eac6711-f0ff-46ca-8efa-2990296365fe-713-1-c000.snappy.parquet"
        ],
        [
         209,
         4,
         1,
         201,
         5,
         "Tie",
         "2025-04-05",
         "part-00000-tid-357594500221985489-0eac6711-f0ff-46ca-8efa-2990296365fe-713-1-c000.snappy.parquet"
        ],
        [
         210,
         4,
         3,
         233,
         7,
         "Win",
         "2025-04-05",
         "part-00000-tid-357594500221985489-0eac6711-f0ff-46ca-8efa-2990296365fe-713-1-c000.snappy.parquet"
        ],
        [
         211,
         5,
         1,
         144,
         10,
         "Loss",
         "2025-04-05",
         "part-00000-tid-357594500221985489-0eac6711-f0ff-46ca-8efa-2990296365fe-713-1-c000.snappy.parquet"
        ],
        [
         212,
         1,
         5,
         227,
         6,
         "Win",
         "2025-04-05",
         "part-00000-tid-357594500221985489-0eac6711-f0ff-46ca-8efa-2990296365fe-713-1-c000.snappy.parquet"
        ],
        [
         213,
         4,
         2,
         190,
         9,
         "Loss",
         "2025-04-05",
         "part-00000-tid-357594500221985489-0eac6711-f0ff-46ca-8efa-2990296365fe-713-1-c000.snappy.parquet"
        ],
        [
         214,
         1,
         3,
         201,
         8,
         "Win",
         "2025-04-05",
         "part-00000-tid-357594500221985489-0eac6711-f0ff-46ca-8efa-2990296365fe-713-1-c000.snappy.parquet"
        ],
        [
         215,
         1,
         3,
         242,
         8,
         "Win",
         "2025-04-05",
         "part-00000-tid-357594500221985489-0eac6711-f0ff-46ca-8efa-2990296365fe-713-1-c000.snappy.parquet"
        ],
        [
         216,
         4,
         1,
         139,
         8,
         "Win",
         "2025-04-05",
         "part-00000-tid-357594500221985489-0eac6711-f0ff-46ca-8efa-2990296365fe-713-1-c000.snappy.parquet"
        ],
        [
         217,
         5,
         4,
         238,
         6,
         "Loss",
         "2025-04-05",
         "part-00000-tid-357594500221985489-0eac6711-f0ff-46ca-8efa-2990296365fe-713-1-c000.snappy.parquet"
        ],
        [
         218,
         2,
         1,
         190,
         5,
         "Tie",
         "2025-04-05",
         "part-00000-tid-357594500221985489-0eac6711-f0ff-46ca-8efa-2990296365fe-713-1-c000.snappy.parquet"
        ],
        [
         219,
         2,
         3,
         194,
         7,
         "Loss",
         "2025-04-05",
         "part-00000-tid-357594500221985489-0eac6711-f0ff-46ca-8efa-2990296365fe-713-1-c000.snappy.parquet"
        ],
        [
         220,
         3,
         1,
         130,
         9,
         "Loss",
         "2025-04-05",
         "part-00000-tid-357594500221985489-0eac6711-f0ff-46ca-8efa-2990296365fe-713-1-c000.snappy.parquet"
        ]
       ],
       "datasetInfos": [],
       "dbfsResultPath": null,
       "isJsonSchema": true,
       "metadata": {},
       "overflow": false,
       "plotOptions": {
        "customPlotOptions": {},
        "displayType": "table",
        "pivotAggregation": null,
        "pivotColumns": null,
        "xColumns": null,
        "yColumns": null
       },
       "removedWidgets": [],
       "schema": [
        {
         "metadata": "{}",
         "name": "match_id",
         "type": "\"integer\""
        },
        {
         "metadata": "{}",
         "name": "team_id",
         "type": "\"integer\""
        },
        {
         "metadata": "{}",
         "name": "opponent_team_id",
         "type": "\"integer\""
        },
        {
         "metadata": "{}",
         "name": "runs_scored",
         "type": "\"integer\""
        },
        {
         "metadata": "{}",
         "name": "wickets_taken",
         "type": "\"integer\""
        },
        {
         "metadata": "{}",
         "name": "match_result",
         "type": "\"string\""
        },
        {
         "metadata": "{}",
         "name": "ingestion_date",
         "type": "\"date\""
        },
        {
         "metadata": "{}",
         "name": "source_file",
         "type": "\"string\""
        }
       ],
       "type": "table"
      }
     },
     "output_type": "display_data"
    }
   ],
   "source": [
    "try:\n",
    "    df_match_perf=df_match_perf.withColumn('runs_scored', df_match_perf['runs_scored'].cast('integer'))\n",
    "    df_match_perf.printSchema()\n",
    "    df_match_perf.display()\n",
    "except Exception as e:\n",
    "    log_data.append([current_time, \"Error\"])\n",
    "    "
   ]
  },
  {
   "cell_type": "markdown",
   "metadata": {
    "application/vnd.databricks.v1+cell": {
     "cellMetadata": {
      "byteLimit": 2048000,
      "rowLimit": 10000
     },
     "inputWidgets": {},
     "nuid": "e6f81bf7-c3f9-49c3-ab06-f4598ee993d0",
     "showTitle": false,
     "tableResultSettingsMap": {},
     "title": ""
    }
   },
   "source": [
    "*Remove Null Values*"
   ]
  },
  {
   "cell_type": "code",
   "execution_count": 0,
   "metadata": {
    "application/vnd.databricks.v1+cell": {
     "cellMetadata": {
      "byteLimit": 2048000,
      "rowLimit": 10000
     },
     "inputWidgets": {},
     "nuid": "477c6876-46eb-455e-a66a-cc5bc34ea126",
     "showTitle": false,
     "tableResultSettingsMap": {},
     "title": ""
    }
   },
   "outputs": [],
   "source": [
    "try:\n",
    "    df_team_silver = df_team.dropna()\n",
    "    df_player_team_silver = df_player_team.dropna()\n",
    "    df_match_perf_silver = df_match_perf.dropna() \n",
    "    df_stadium_silver = df_stadium.dropna()\n",
    "    df_match_stadium_silver = df_match_stadium.dropna()\n",
    "    df_player_perf_silver = df_player_perf.dropna()\n",
    "    log_data.append([current_time, \"Success\"])\n",
    "except Exception as e:\n",
    "    log_data.append([current_time, \"Error\"])\n"
   ]
  },
  {
   "cell_type": "markdown",
   "metadata": {
    "application/vnd.databricks.v1+cell": {
     "cellMetadata": {
      "byteLimit": 2048000,
      "rowLimit": 10000
     },
     "inputWidgets": {},
     "nuid": "bb33667e-a44d-451c-a89e-319b3f06823c",
     "showTitle": false,
     "tableResultSettingsMap": {},
     "title": ""
    }
   },
   "source": [
    "**Joining Related Tables**"
   ]
  },
  {
   "cell_type": "markdown",
   "metadata": {
    "application/vnd.databricks.v1+cell": {
     "cellMetadata": {
      "byteLimit": 2048000,
      "rowLimit": 10000
     },
     "inputWidgets": {},
     "nuid": "99a2da8d-1cdb-4df5-92f4-78ef55477e80",
     "showTitle": false,
     "tableResultSettingsMap": {},
     "title": ""
    }
   },
   "source": [
    "Join team_silver with player_team_silver"
   ]
  },
  {
   "cell_type": "code",
   "execution_count": 0,
   "metadata": {
    "application/vnd.databricks.v1+cell": {
     "cellMetadata": {
      "byteLimit": 2048000,
      "rowLimit": 10000
     },
     "inputWidgets": {},
     "nuid": "13794f87-cf98-40f1-80b7-3a502fa86c58",
     "showTitle": false,
     "tableResultSettingsMap": {},
     "title": ""
    }
   },
   "outputs": [
    {
     "data": {
      "text/html": [
       "<style scoped>\n",
       "  .table-result-container {\n",
       "    max-height: 300px;\n",
       "    overflow: auto;\n",
       "  }\n",
       "  table, th, td {\n",
       "    border: 1px solid black;\n",
       "    border-collapse: collapse;\n",
       "  }\n",
       "  th, td {\n",
       "    padding: 5px;\n",
       "  }\n",
       "  th {\n",
       "    text-align: left;\n",
       "  }\n",
       "</style><div class='table-result-container'><table class='table-result'><thead style='background-color: white'><tr><th>team_id</th><th>team_name</th><th>home_ground</th><th>captain</th><th>player_id</th><th>player_name</th><th>player_role</th></tr></thead><tbody><tr><td>1</td><td>Mumbai Indians</td><td>Wankhede Stadium</td><td>Rohit Sharma</td><td>101</td><td>Thomas Mendez</td><td>All-rounder</td></tr><tr><td>2</td><td>Chennai Super Kings</td><td>M. A. Chidambaram Stadium</td><td>MS Dhoni</td><td>104</td><td>Amber Bell</td><td>Bowler</td></tr><tr><td>1</td><td>Mumbai Indians</td><td>Wankhede Stadium</td><td>Rohit Sharma</td><td>105</td><td>Shawn Bowers</td><td>Batsman</td></tr><tr><td>2</td><td>Chennai Super Kings</td><td>M. A. Chidambaram Stadium</td><td>MS Dhoni</td><td>108</td><td>Jared Knox</td><td>Bowler</td></tr><tr><td>2</td><td>Chennai Super Kings</td><td>M. A. Chidambaram Stadium</td><td>MS Dhoni</td><td>109</td><td>Kevin Conrad</td><td>Bowler</td></tr><tr><td>4</td><td>Kolkata Knight Riders</td><td>Eden Gardens</td><td>Shreyas Iyer</td><td>110</td><td>Alan Padilla</td><td>All-rounder</td></tr><tr><td>2</td><td>Chennai Super Kings</td><td>M. A. Chidambaram Stadium</td><td>MS Dhoni</td><td>114</td><td>Joshua Baird</td><td>Bowler</td></tr><tr><td>4</td><td>Kolkata Knight Riders</td><td>Eden Gardens</td><td>Shreyas Iyer</td><td>115</td><td>Breanna Jackson</td><td>All-rounder</td></tr><tr><td>1</td><td>Mumbai Indians</td><td>Wankhede Stadium</td><td>Rohit Sharma</td><td>116</td><td>Bruce Morales</td><td>All-rounder</td></tr><tr><td>1</td><td>Mumbai Indians</td><td>Wankhede Stadium</td><td>Rohit Sharma</td><td>120</td><td>Justin White</td><td>Batsman</td></tr></tbody></table></div>"
      ]
     },
     "metadata": {
      "application/vnd.databricks.v1+output": {
       "addedWidgets": {},
       "aggData": [],
       "aggError": "",
       "aggOverflow": false,
       "aggSchema": [],
       "aggSeriesLimitReached": false,
       "aggType": "",
       "arguments": {},
       "columnCustomDisplayInfos": {},
       "data": [
        [
         1,
         "Mumbai Indians",
         "Wankhede Stadium",
         "Rohit Sharma",
         101,
         "Thomas Mendez",
         "All-rounder"
        ],
        [
         2,
         "Chennai Super Kings",
         "M. A. Chidambaram Stadium",
         "MS Dhoni",
         104,
         "Amber Bell",
         "Bowler"
        ],
        [
         1,
         "Mumbai Indians",
         "Wankhede Stadium",
         "Rohit Sharma",
         105,
         "Shawn Bowers",
         "Batsman"
        ],
        [
         2,
         "Chennai Super Kings",
         "M. A. Chidambaram Stadium",
         "MS Dhoni",
         108,
         "Jared Knox",
         "Bowler"
        ],
        [
         2,
         "Chennai Super Kings",
         "M. A. Chidambaram Stadium",
         "MS Dhoni",
         109,
         "Kevin Conrad",
         "Bowler"
        ],
        [
         4,
         "Kolkata Knight Riders",
         "Eden Gardens",
         "Shreyas Iyer",
         110,
         "Alan Padilla",
         "All-rounder"
        ],
        [
         2,
         "Chennai Super Kings",
         "M. A. Chidambaram Stadium",
         "MS Dhoni",
         114,
         "Joshua Baird",
         "Bowler"
        ],
        [
         4,
         "Kolkata Knight Riders",
         "Eden Gardens",
         "Shreyas Iyer",
         115,
         "Breanna Jackson",
         "All-rounder"
        ],
        [
         1,
         "Mumbai Indians",
         "Wankhede Stadium",
         "Rohit Sharma",
         116,
         "Bruce Morales",
         "All-rounder"
        ],
        [
         1,
         "Mumbai Indians",
         "Wankhede Stadium",
         "Rohit Sharma",
         120,
         "Justin White",
         "Batsman"
        ]
       ],
       "datasetInfos": [],
       "dbfsResultPath": null,
       "isJsonSchema": true,
       "metadata": {},
       "overflow": false,
       "plotOptions": {
        "customPlotOptions": {},
        "displayType": "table",
        "pivotAggregation": null,
        "pivotColumns": null,
        "xColumns": null,
        "yColumns": null
       },
       "removedWidgets": [],
       "schema": [
        {
         "metadata": "{}",
         "name": "team_id",
         "type": "\"integer\""
        },
        {
         "metadata": "{}",
         "name": "team_name",
         "type": "\"string\""
        },
        {
         "metadata": "{}",
         "name": "home_ground",
         "type": "\"string\""
        },
        {
         "metadata": "{}",
         "name": "captain",
         "type": "\"string\""
        },
        {
         "metadata": "{}",
         "name": "player_id",
         "type": "\"integer\""
        },
        {
         "metadata": "{}",
         "name": "player_name",
         "type": "\"string\""
        },
        {
         "metadata": "{}",
         "name": "player_role",
         "type": "\"string\""
        }
       ],
       "type": "table"
      }
     },
     "output_type": "display_data"
    }
   ],
   "source": [
    "df_team_player = df_team_silver.join(df_player_team_silver, \"team_id\", \"inner\").drop(df_player_team_silver.ingestion_date,df_player_team_silver.source_file,df_team_silver.ingestion_date,df_team_silver.source_file)\n",
    "df_team_player.display()"
   ]
  },
  {
   "cell_type": "markdown",
   "metadata": {
    "application/vnd.databricks.v1+cell": {
     "cellMetadata": {
      "byteLimit": 2048000,
      "rowLimit": 10000
     },
     "inputWidgets": {},
     "nuid": "5ccc9b4b-8807-451f-9199-fac5af7fc02d",
     "showTitle": false,
     "tableResultSettingsMap": {},
     "title": ""
    }
   },
   "source": [
    "Join the result with match_performance_silver"
   ]
  },
  {
   "cell_type": "code",
   "execution_count": 0,
   "metadata": {
    "application/vnd.databricks.v1+cell": {
     "cellMetadata": {
      "byteLimit": 2048000,
      "rowLimit": 10000
     },
     "inputWidgets": {},
     "nuid": "fee20561-f894-42f3-aefa-68f0c798d5d4",
     "showTitle": false,
     "tableResultSettingsMap": {},
     "title": ""
    }
   },
   "outputs": [
    {
     "data": {
      "text/html": [
       "<style scoped>\n",
       "  .table-result-container {\n",
       "    max-height: 300px;\n",
       "    overflow: auto;\n",
       "  }\n",
       "  table, th, td {\n",
       "    border: 1px solid black;\n",
       "    border-collapse: collapse;\n",
       "  }\n",
       "  th, td {\n",
       "    padding: 5px;\n",
       "  }\n",
       "  th {\n",
       "    text-align: left;\n",
       "  }\n",
       "</style><div class='table-result-container'><table class='table-result'><thead style='background-color: white'><tr><th>team_id</th><th>team_name</th><th>home_ground</th><th>captain</th><th>player_id</th><th>player_name</th><th>player_role</th><th>match_id</th><th>opponent_team_id</th><th>runs_scored</th><th>wickets_taken</th><th>match_result</th></tr></thead><tbody><tr><td>1</td><td>Mumbai Indians</td><td>Wankhede Stadium</td><td>Rohit Sharma</td><td>101</td><td>Thomas Mendez</td><td>All-rounder</td><td>215</td><td>3</td><td>242</td><td>8</td><td>Win</td></tr><tr><td>1</td><td>Mumbai Indians</td><td>Wankhede Stadium</td><td>Rohit Sharma</td><td>101</td><td>Thomas Mendez</td><td>All-rounder</td><td>214</td><td>3</td><td>201</td><td>8</td><td>Win</td></tr><tr><td>1</td><td>Mumbai Indians</td><td>Wankhede Stadium</td><td>Rohit Sharma</td><td>101</td><td>Thomas Mendez</td><td>All-rounder</td><td>212</td><td>5</td><td>227</td><td>6</td><td>Win</td></tr><tr><td>1</td><td>Mumbai Indians</td><td>Wankhede Stadium</td><td>Rohit Sharma</td><td>101</td><td>Thomas Mendez</td><td>All-rounder</td><td>206</td><td>2</td><td>215</td><td>6</td><td>Loss</td></tr><tr><td>1</td><td>Mumbai Indians</td><td>Wankhede Stadium</td><td>Rohit Sharma</td><td>101</td><td>Thomas Mendez</td><td>All-rounder</td><td>202</td><td>3</td><td>202</td><td>10</td><td>Loss</td></tr><tr><td>2</td><td>Chennai Super Kings</td><td>M. A. Chidambaram Stadium</td><td>MS Dhoni</td><td>104</td><td>Amber Bell</td><td>Bowler</td><td>219</td><td>3</td><td>194</td><td>7</td><td>Loss</td></tr><tr><td>2</td><td>Chennai Super Kings</td><td>M. A. Chidambaram Stadium</td><td>MS Dhoni</td><td>104</td><td>Amber Bell</td><td>Bowler</td><td>218</td><td>1</td><td>190</td><td>5</td><td>Tie</td></tr><tr><td>2</td><td>Chennai Super Kings</td><td>M. A. Chidambaram Stadium</td><td>MS Dhoni</td><td>104</td><td>Amber Bell</td><td>Bowler</td><td>203</td><td>3</td><td>238</td><td>8</td><td>Win</td></tr><tr><td>1</td><td>Mumbai Indians</td><td>Wankhede Stadium</td><td>Rohit Sharma</td><td>105</td><td>Shawn Bowers</td><td>Batsman</td><td>215</td><td>3</td><td>242</td><td>8</td><td>Win</td></tr><tr><td>1</td><td>Mumbai Indians</td><td>Wankhede Stadium</td><td>Rohit Sharma</td><td>105</td><td>Shawn Bowers</td><td>Batsman</td><td>214</td><td>3</td><td>201</td><td>8</td><td>Win</td></tr><tr><td>1</td><td>Mumbai Indians</td><td>Wankhede Stadium</td><td>Rohit Sharma</td><td>105</td><td>Shawn Bowers</td><td>Batsman</td><td>212</td><td>5</td><td>227</td><td>6</td><td>Win</td></tr><tr><td>1</td><td>Mumbai Indians</td><td>Wankhede Stadium</td><td>Rohit Sharma</td><td>105</td><td>Shawn Bowers</td><td>Batsman</td><td>206</td><td>2</td><td>215</td><td>6</td><td>Loss</td></tr><tr><td>1</td><td>Mumbai Indians</td><td>Wankhede Stadium</td><td>Rohit Sharma</td><td>105</td><td>Shawn Bowers</td><td>Batsman</td><td>202</td><td>3</td><td>202</td><td>10</td><td>Loss</td></tr><tr><td>2</td><td>Chennai Super Kings</td><td>M. A. Chidambaram Stadium</td><td>MS Dhoni</td><td>108</td><td>Jared Knox</td><td>Bowler</td><td>219</td><td>3</td><td>194</td><td>7</td><td>Loss</td></tr><tr><td>2</td><td>Chennai Super Kings</td><td>M. A. Chidambaram Stadium</td><td>MS Dhoni</td><td>108</td><td>Jared Knox</td><td>Bowler</td><td>218</td><td>1</td><td>190</td><td>5</td><td>Tie</td></tr><tr><td>2</td><td>Chennai Super Kings</td><td>M. A. Chidambaram Stadium</td><td>MS Dhoni</td><td>108</td><td>Jared Knox</td><td>Bowler</td><td>203</td><td>3</td><td>238</td><td>8</td><td>Win</td></tr><tr><td>2</td><td>Chennai Super Kings</td><td>M. A. Chidambaram Stadium</td><td>MS Dhoni</td><td>109</td><td>Kevin Conrad</td><td>Bowler</td><td>219</td><td>3</td><td>194</td><td>7</td><td>Loss</td></tr><tr><td>2</td><td>Chennai Super Kings</td><td>M. A. Chidambaram Stadium</td><td>MS Dhoni</td><td>109</td><td>Kevin Conrad</td><td>Bowler</td><td>218</td><td>1</td><td>190</td><td>5</td><td>Tie</td></tr><tr><td>2</td><td>Chennai Super Kings</td><td>M. A. Chidambaram Stadium</td><td>MS Dhoni</td><td>109</td><td>Kevin Conrad</td><td>Bowler</td><td>203</td><td>3</td><td>238</td><td>8</td><td>Win</td></tr><tr><td>4</td><td>Kolkata Knight Riders</td><td>Eden Gardens</td><td>Shreyas Iyer</td><td>110</td><td>Alan Padilla</td><td>All-rounder</td><td>216</td><td>1</td><td>139</td><td>8</td><td>Win</td></tr><tr><td>4</td><td>Kolkata Knight Riders</td><td>Eden Gardens</td><td>Shreyas Iyer</td><td>110</td><td>Alan Padilla</td><td>All-rounder</td><td>213</td><td>2</td><td>190</td><td>9</td><td>Loss</td></tr><tr><td>4</td><td>Kolkata Knight Riders</td><td>Eden Gardens</td><td>Shreyas Iyer</td><td>110</td><td>Alan Padilla</td><td>All-rounder</td><td>210</td><td>3</td><td>233</td><td>7</td><td>Win</td></tr><tr><td>4</td><td>Kolkata Knight Riders</td><td>Eden Gardens</td><td>Shreyas Iyer</td><td>110</td><td>Alan Padilla</td><td>All-rounder</td><td>209</td><td>1</td><td>201</td><td>5</td><td>Tie</td></tr><tr><td>4</td><td>Kolkata Knight Riders</td><td>Eden Gardens</td><td>Shreyas Iyer</td><td>110</td><td>Alan Padilla</td><td>All-rounder</td><td>205</td><td>3</td><td>123</td><td>8</td><td>Tie</td></tr><tr><td>4</td><td>Kolkata Knight Riders</td><td>Eden Gardens</td><td>Shreyas Iyer</td><td>110</td><td>Alan Padilla</td><td>All-rounder</td><td>201</td><td>1</td><td>213</td><td>7</td><td>Tie</td></tr><tr><td>2</td><td>Chennai Super Kings</td><td>M. A. Chidambaram Stadium</td><td>MS Dhoni</td><td>114</td><td>Joshua Baird</td><td>Bowler</td><td>219</td><td>3</td><td>194</td><td>7</td><td>Loss</td></tr><tr><td>2</td><td>Chennai Super Kings</td><td>M. A. Chidambaram Stadium</td><td>MS Dhoni</td><td>114</td><td>Joshua Baird</td><td>Bowler</td><td>218</td><td>1</td><td>190</td><td>5</td><td>Tie</td></tr><tr><td>2</td><td>Chennai Super Kings</td><td>M. A. Chidambaram Stadium</td><td>MS Dhoni</td><td>114</td><td>Joshua Baird</td><td>Bowler</td><td>203</td><td>3</td><td>238</td><td>8</td><td>Win</td></tr><tr><td>4</td><td>Kolkata Knight Riders</td><td>Eden Gardens</td><td>Shreyas Iyer</td><td>115</td><td>Breanna Jackson</td><td>All-rounder</td><td>216</td><td>1</td><td>139</td><td>8</td><td>Win</td></tr><tr><td>4</td><td>Kolkata Knight Riders</td><td>Eden Gardens</td><td>Shreyas Iyer</td><td>115</td><td>Breanna Jackson</td><td>All-rounder</td><td>213</td><td>2</td><td>190</td><td>9</td><td>Loss</td></tr><tr><td>4</td><td>Kolkata Knight Riders</td><td>Eden Gardens</td><td>Shreyas Iyer</td><td>115</td><td>Breanna Jackson</td><td>All-rounder</td><td>210</td><td>3</td><td>233</td><td>7</td><td>Win</td></tr><tr><td>4</td><td>Kolkata Knight Riders</td><td>Eden Gardens</td><td>Shreyas Iyer</td><td>115</td><td>Breanna Jackson</td><td>All-rounder</td><td>209</td><td>1</td><td>201</td><td>5</td><td>Tie</td></tr><tr><td>4</td><td>Kolkata Knight Riders</td><td>Eden Gardens</td><td>Shreyas Iyer</td><td>115</td><td>Breanna Jackson</td><td>All-rounder</td><td>205</td><td>3</td><td>123</td><td>8</td><td>Tie</td></tr><tr><td>4</td><td>Kolkata Knight Riders</td><td>Eden Gardens</td><td>Shreyas Iyer</td><td>115</td><td>Breanna Jackson</td><td>All-rounder</td><td>201</td><td>1</td><td>213</td><td>7</td><td>Tie</td></tr><tr><td>1</td><td>Mumbai Indians</td><td>Wankhede Stadium</td><td>Rohit Sharma</td><td>116</td><td>Bruce Morales</td><td>All-rounder</td><td>215</td><td>3</td><td>242</td><td>8</td><td>Win</td></tr><tr><td>1</td><td>Mumbai Indians</td><td>Wankhede Stadium</td><td>Rohit Sharma</td><td>116</td><td>Bruce Morales</td><td>All-rounder</td><td>214</td><td>3</td><td>201</td><td>8</td><td>Win</td></tr><tr><td>1</td><td>Mumbai Indians</td><td>Wankhede Stadium</td><td>Rohit Sharma</td><td>116</td><td>Bruce Morales</td><td>All-rounder</td><td>212</td><td>5</td><td>227</td><td>6</td><td>Win</td></tr><tr><td>1</td><td>Mumbai Indians</td><td>Wankhede Stadium</td><td>Rohit Sharma</td><td>116</td><td>Bruce Morales</td><td>All-rounder</td><td>206</td><td>2</td><td>215</td><td>6</td><td>Loss</td></tr><tr><td>1</td><td>Mumbai Indians</td><td>Wankhede Stadium</td><td>Rohit Sharma</td><td>116</td><td>Bruce Morales</td><td>All-rounder</td><td>202</td><td>3</td><td>202</td><td>10</td><td>Loss</td></tr><tr><td>1</td><td>Mumbai Indians</td><td>Wankhede Stadium</td><td>Rohit Sharma</td><td>120</td><td>Justin White</td><td>Batsman</td><td>215</td><td>3</td><td>242</td><td>8</td><td>Win</td></tr><tr><td>1</td><td>Mumbai Indians</td><td>Wankhede Stadium</td><td>Rohit Sharma</td><td>120</td><td>Justin White</td><td>Batsman</td><td>214</td><td>3</td><td>201</td><td>8</td><td>Win</td></tr><tr><td>1</td><td>Mumbai Indians</td><td>Wankhede Stadium</td><td>Rohit Sharma</td><td>120</td><td>Justin White</td><td>Batsman</td><td>212</td><td>5</td><td>227</td><td>6</td><td>Win</td></tr><tr><td>1</td><td>Mumbai Indians</td><td>Wankhede Stadium</td><td>Rohit Sharma</td><td>120</td><td>Justin White</td><td>Batsman</td><td>206</td><td>2</td><td>215</td><td>6</td><td>Loss</td></tr><tr><td>1</td><td>Mumbai Indians</td><td>Wankhede Stadium</td><td>Rohit Sharma</td><td>120</td><td>Justin White</td><td>Batsman</td><td>202</td><td>3</td><td>202</td><td>10</td><td>Loss</td></tr></tbody></table></div>"
      ]
     },
     "metadata": {
      "application/vnd.databricks.v1+output": {
       "addedWidgets": {},
       "aggData": [],
       "aggError": "",
       "aggOverflow": false,
       "aggSchema": [],
       "aggSeriesLimitReached": false,
       "aggType": "",
       "arguments": {},
       "columnCustomDisplayInfos": {},
       "data": [
        [
         1,
         "Mumbai Indians",
         "Wankhede Stadium",
         "Rohit Sharma",
         101,
         "Thomas Mendez",
         "All-rounder",
         215,
         3,
         242,
         8,
         "Win"
        ],
        [
         1,
         "Mumbai Indians",
         "Wankhede Stadium",
         "Rohit Sharma",
         101,
         "Thomas Mendez",
         "All-rounder",
         214,
         3,
         201,
         8,
         "Win"
        ],
        [
         1,
         "Mumbai Indians",
         "Wankhede Stadium",
         "Rohit Sharma",
         101,
         "Thomas Mendez",
         "All-rounder",
         212,
         5,
         227,
         6,
         "Win"
        ],
        [
         1,
         "Mumbai Indians",
         "Wankhede Stadium",
         "Rohit Sharma",
         101,
         "Thomas Mendez",
         "All-rounder",
         206,
         2,
         215,
         6,
         "Loss"
        ],
        [
         1,
         "Mumbai Indians",
         "Wankhede Stadium",
         "Rohit Sharma",
         101,
         "Thomas Mendez",
         "All-rounder",
         202,
         3,
         202,
         10,
         "Loss"
        ],
        [
         2,
         "Chennai Super Kings",
         "M. A. Chidambaram Stadium",
         "MS Dhoni",
         104,
         "Amber Bell",
         "Bowler",
         219,
         3,
         194,
         7,
         "Loss"
        ],
        [
         2,
         "Chennai Super Kings",
         "M. A. Chidambaram Stadium",
         "MS Dhoni",
         104,
         "Amber Bell",
         "Bowler",
         218,
         1,
         190,
         5,
         "Tie"
        ],
        [
         2,
         "Chennai Super Kings",
         "M. A. Chidambaram Stadium",
         "MS Dhoni",
         104,
         "Amber Bell",
         "Bowler",
         203,
         3,
         238,
         8,
         "Win"
        ],
        [
         1,
         "Mumbai Indians",
         "Wankhede Stadium",
         "Rohit Sharma",
         105,
         "Shawn Bowers",
         "Batsman",
         215,
         3,
         242,
         8,
         "Win"
        ],
        [
         1,
         "Mumbai Indians",
         "Wankhede Stadium",
         "Rohit Sharma",
         105,
         "Shawn Bowers",
         "Batsman",
         214,
         3,
         201,
         8,
         "Win"
        ],
        [
         1,
         "Mumbai Indians",
         "Wankhede Stadium",
         "Rohit Sharma",
         105,
         "Shawn Bowers",
         "Batsman",
         212,
         5,
         227,
         6,
         "Win"
        ],
        [
         1,
         "Mumbai Indians",
         "Wankhede Stadium",
         "Rohit Sharma",
         105,
         "Shawn Bowers",
         "Batsman",
         206,
         2,
         215,
         6,
         "Loss"
        ],
        [
         1,
         "Mumbai Indians",
         "Wankhede Stadium",
         "Rohit Sharma",
         105,
         "Shawn Bowers",
         "Batsman",
         202,
         3,
         202,
         10,
         "Loss"
        ],
        [
         2,
         "Chennai Super Kings",
         "M. A. Chidambaram Stadium",
         "MS Dhoni",
         108,
         "Jared Knox",
         "Bowler",
         219,
         3,
         194,
         7,
         "Loss"
        ],
        [
         2,
         "Chennai Super Kings",
         "M. A. Chidambaram Stadium",
         "MS Dhoni",
         108,
         "Jared Knox",
         "Bowler",
         218,
         1,
         190,
         5,
         "Tie"
        ],
        [
         2,
         "Chennai Super Kings",
         "M. A. Chidambaram Stadium",
         "MS Dhoni",
         108,
         "Jared Knox",
         "Bowler",
         203,
         3,
         238,
         8,
         "Win"
        ],
        [
         2,
         "Chennai Super Kings",
         "M. A. Chidambaram Stadium",
         "MS Dhoni",
         109,
         "Kevin Conrad",
         "Bowler",
         219,
         3,
         194,
         7,
         "Loss"
        ],
        [
         2,
         "Chennai Super Kings",
         "M. A. Chidambaram Stadium",
         "MS Dhoni",
         109,
         "Kevin Conrad",
         "Bowler",
         218,
         1,
         190,
         5,
         "Tie"
        ],
        [
         2,
         "Chennai Super Kings",
         "M. A. Chidambaram Stadium",
         "MS Dhoni",
         109,
         "Kevin Conrad",
         "Bowler",
         203,
         3,
         238,
         8,
         "Win"
        ],
        [
         4,
         "Kolkata Knight Riders",
         "Eden Gardens",
         "Shreyas Iyer",
         110,
         "Alan Padilla",
         "All-rounder",
         216,
         1,
         139,
         8,
         "Win"
        ],
        [
         4,
         "Kolkata Knight Riders",
         "Eden Gardens",
         "Shreyas Iyer",
         110,
         "Alan Padilla",
         "All-rounder",
         213,
         2,
         190,
         9,
         "Loss"
        ],
        [
         4,
         "Kolkata Knight Riders",
         "Eden Gardens",
         "Shreyas Iyer",
         110,
         "Alan Padilla",
         "All-rounder",
         210,
         3,
         233,
         7,
         "Win"
        ],
        [
         4,
         "Kolkata Knight Riders",
         "Eden Gardens",
         "Shreyas Iyer",
         110,
         "Alan Padilla",
         "All-rounder",
         209,
         1,
         201,
         5,
         "Tie"
        ],
        [
         4,
         "Kolkata Knight Riders",
         "Eden Gardens",
         "Shreyas Iyer",
         110,
         "Alan Padilla",
         "All-rounder",
         205,
         3,
         123,
         8,
         "Tie"
        ],
        [
         4,
         "Kolkata Knight Riders",
         "Eden Gardens",
         "Shreyas Iyer",
         110,
         "Alan Padilla",
         "All-rounder",
         201,
         1,
         213,
         7,
         "Tie"
        ],
        [
         2,
         "Chennai Super Kings",
         "M. A. Chidambaram Stadium",
         "MS Dhoni",
         114,
         "Joshua Baird",
         "Bowler",
         219,
         3,
         194,
         7,
         "Loss"
        ],
        [
         2,
         "Chennai Super Kings",
         "M. A. Chidambaram Stadium",
         "MS Dhoni",
         114,
         "Joshua Baird",
         "Bowler",
         218,
         1,
         190,
         5,
         "Tie"
        ],
        [
         2,
         "Chennai Super Kings",
         "M. A. Chidambaram Stadium",
         "MS Dhoni",
         114,
         "Joshua Baird",
         "Bowler",
         203,
         3,
         238,
         8,
         "Win"
        ],
        [
         4,
         "Kolkata Knight Riders",
         "Eden Gardens",
         "Shreyas Iyer",
         115,
         "Breanna Jackson",
         "All-rounder",
         216,
         1,
         139,
         8,
         "Win"
        ],
        [
         4,
         "Kolkata Knight Riders",
         "Eden Gardens",
         "Shreyas Iyer",
         115,
         "Breanna Jackson",
         "All-rounder",
         213,
         2,
         190,
         9,
         "Loss"
        ],
        [
         4,
         "Kolkata Knight Riders",
         "Eden Gardens",
         "Shreyas Iyer",
         115,
         "Breanna Jackson",
         "All-rounder",
         210,
         3,
         233,
         7,
         "Win"
        ],
        [
         4,
         "Kolkata Knight Riders",
         "Eden Gardens",
         "Shreyas Iyer",
         115,
         "Breanna Jackson",
         "All-rounder",
         209,
         1,
         201,
         5,
         "Tie"
        ],
        [
         4,
         "Kolkata Knight Riders",
         "Eden Gardens",
         "Shreyas Iyer",
         115,
         "Breanna Jackson",
         "All-rounder",
         205,
         3,
         123,
         8,
         "Tie"
        ],
        [
         4,
         "Kolkata Knight Riders",
         "Eden Gardens",
         "Shreyas Iyer",
         115,
         "Breanna Jackson",
         "All-rounder",
         201,
         1,
         213,
         7,
         "Tie"
        ],
        [
         1,
         "Mumbai Indians",
         "Wankhede Stadium",
         "Rohit Sharma",
         116,
         "Bruce Morales",
         "All-rounder",
         215,
         3,
         242,
         8,
         "Win"
        ],
        [
         1,
         "Mumbai Indians",
         "Wankhede Stadium",
         "Rohit Sharma",
         116,
         "Bruce Morales",
         "All-rounder",
         214,
         3,
         201,
         8,
         "Win"
        ],
        [
         1,
         "Mumbai Indians",
         "Wankhede Stadium",
         "Rohit Sharma",
         116,
         "Bruce Morales",
         "All-rounder",
         212,
         5,
         227,
         6,
         "Win"
        ],
        [
         1,
         "Mumbai Indians",
         "Wankhede Stadium",
         "Rohit Sharma",
         116,
         "Bruce Morales",
         "All-rounder",
         206,
         2,
         215,
         6,
         "Loss"
        ],
        [
         1,
         "Mumbai Indians",
         "Wankhede Stadium",
         "Rohit Sharma",
         116,
         "Bruce Morales",
         "All-rounder",
         202,
         3,
         202,
         10,
         "Loss"
        ],
        [
         1,
         "Mumbai Indians",
         "Wankhede Stadium",
         "Rohit Sharma",
         120,
         "Justin White",
         "Batsman",
         215,
         3,
         242,
         8,
         "Win"
        ],
        [
         1,
         "Mumbai Indians",
         "Wankhede Stadium",
         "Rohit Sharma",
         120,
         "Justin White",
         "Batsman",
         214,
         3,
         201,
         8,
         "Win"
        ],
        [
         1,
         "Mumbai Indians",
         "Wankhede Stadium",
         "Rohit Sharma",
         120,
         "Justin White",
         "Batsman",
         212,
         5,
         227,
         6,
         "Win"
        ],
        [
         1,
         "Mumbai Indians",
         "Wankhede Stadium",
         "Rohit Sharma",
         120,
         "Justin White",
         "Batsman",
         206,
         2,
         215,
         6,
         "Loss"
        ],
        [
         1,
         "Mumbai Indians",
         "Wankhede Stadium",
         "Rohit Sharma",
         120,
         "Justin White",
         "Batsman",
         202,
         3,
         202,
         10,
         "Loss"
        ]
       ],
       "datasetInfos": [],
       "dbfsResultPath": null,
       "isJsonSchema": true,
       "metadata": {},
       "overflow": false,
       "plotOptions": {
        "customPlotOptions": {},
        "displayType": "table",
        "pivotAggregation": null,
        "pivotColumns": null,
        "xColumns": null,
        "yColumns": null
       },
       "removedWidgets": [],
       "schema": [
        {
         "metadata": "{}",
         "name": "team_id",
         "type": "\"integer\""
        },
        {
         "metadata": "{}",
         "name": "team_name",
         "type": "\"string\""
        },
        {
         "metadata": "{}",
         "name": "home_ground",
         "type": "\"string\""
        },
        {
         "metadata": "{}",
         "name": "captain",
         "type": "\"string\""
        },
        {
         "metadata": "{}",
         "name": "player_id",
         "type": "\"integer\""
        },
        {
         "metadata": "{}",
         "name": "player_name",
         "type": "\"string\""
        },
        {
         "metadata": "{}",
         "name": "player_role",
         "type": "\"string\""
        },
        {
         "metadata": "{}",
         "name": "match_id",
         "type": "\"integer\""
        },
        {
         "metadata": "{}",
         "name": "opponent_team_id",
         "type": "\"integer\""
        },
        {
         "metadata": "{}",
         "name": "runs_scored",
         "type": "\"integer\""
        },
        {
         "metadata": "{}",
         "name": "wickets_taken",
         "type": "\"integer\""
        },
        {
         "metadata": "{}",
         "name": "match_result",
         "type": "\"string\""
        }
       ],
       "type": "table"
      }
     },
     "output_type": "display_data"
    }
   ],
   "source": [
    "df_team_player_match = df_team_player.join(df_match_perf_silver, \"team_id\", \"inner\").drop(df_match_perf_silver.ingestion_date,df_match_perf_silver.source_file)\n",
    "df_team_player_match.display()\n"
   ]
  },
  {
   "cell_type": "markdown",
   "metadata": {
    "application/vnd.databricks.v1+cell": {
     "cellMetadata": {
      "byteLimit": 2048000,
      "rowLimit": 10000
     },
     "inputWidgets": {},
     "nuid": "80c1d513-732d-42e7-858d-fe937e9c3e0c",
     "showTitle": false,
     "tableResultSettingsMap": {},
     "title": ""
    }
   },
   "source": [
    "Join result with match_stadium_silver\n"
   ]
  },
  {
   "cell_type": "code",
   "execution_count": 0,
   "metadata": {
    "application/vnd.databricks.v1+cell": {
     "cellMetadata": {
      "byteLimit": 2048000,
      "rowLimit": 10000
     },
     "inputWidgets": {},
     "nuid": "4f907586-9a21-43c6-b016-96e617d1988b",
     "showTitle": false,
     "tableResultSettingsMap": {},
     "title": ""
    }
   },
   "outputs": [
    {
     "data": {
      "text/html": [
       "<style scoped>\n",
       "  .table-result-container {\n",
       "    max-height: 300px;\n",
       "    overflow: auto;\n",
       "  }\n",
       "  table, th, td {\n",
       "    border: 1px solid black;\n",
       "    border-collapse: collapse;\n",
       "  }\n",
       "  th, td {\n",
       "    padding: 5px;\n",
       "  }\n",
       "  th {\n",
       "    text-align: left;\n",
       "  }\n",
       "</style><div class='table-result-container'><table class='table-result'><thead style='background-color: white'><tr><th>match_id</th><th>team_id</th><th>team_name</th><th>home_ground</th><th>captain</th><th>player_id</th><th>player_name</th><th>player_role</th><th>opponent_team_id</th><th>runs_scored</th><th>wickets_taken</th><th>match_result</th><th>stadium_id</th></tr></thead><tbody><tr><td>215</td><td>1</td><td>Mumbai Indians</td><td>Wankhede Stadium</td><td>Rohit Sharma</td><td>101</td><td>Thomas Mendez</td><td>All-rounder</td><td>3</td><td>242</td><td>8</td><td>Win</td><td>305</td></tr><tr><td>214</td><td>1</td><td>Mumbai Indians</td><td>Wankhede Stadium</td><td>Rohit Sharma</td><td>101</td><td>Thomas Mendez</td><td>All-rounder</td><td>3</td><td>201</td><td>8</td><td>Win</td><td>302</td></tr><tr><td>212</td><td>1</td><td>Mumbai Indians</td><td>Wankhede Stadium</td><td>Rohit Sharma</td><td>101</td><td>Thomas Mendez</td><td>All-rounder</td><td>5</td><td>227</td><td>6</td><td>Win</td><td>303</td></tr><tr><td>206</td><td>1</td><td>Mumbai Indians</td><td>Wankhede Stadium</td><td>Rohit Sharma</td><td>101</td><td>Thomas Mendez</td><td>All-rounder</td><td>2</td><td>215</td><td>6</td><td>Loss</td><td>305</td></tr><tr><td>202</td><td>1</td><td>Mumbai Indians</td><td>Wankhede Stadium</td><td>Rohit Sharma</td><td>101</td><td>Thomas Mendez</td><td>All-rounder</td><td>3</td><td>202</td><td>10</td><td>Loss</td><td>304</td></tr><tr><td>219</td><td>2</td><td>Chennai Super Kings</td><td>M. A. Chidambaram Stadium</td><td>MS Dhoni</td><td>104</td><td>Amber Bell</td><td>Bowler</td><td>3</td><td>194</td><td>7</td><td>Loss</td><td>303</td></tr><tr><td>218</td><td>2</td><td>Chennai Super Kings</td><td>M. A. Chidambaram Stadium</td><td>MS Dhoni</td><td>104</td><td>Amber Bell</td><td>Bowler</td><td>1</td><td>190</td><td>5</td><td>Tie</td><td>304</td></tr><tr><td>203</td><td>2</td><td>Chennai Super Kings</td><td>M. A. Chidambaram Stadium</td><td>MS Dhoni</td><td>104</td><td>Amber Bell</td><td>Bowler</td><td>3</td><td>238</td><td>8</td><td>Win</td><td>302</td></tr><tr><td>215</td><td>1</td><td>Mumbai Indians</td><td>Wankhede Stadium</td><td>Rohit Sharma</td><td>105</td><td>Shawn Bowers</td><td>Batsman</td><td>3</td><td>242</td><td>8</td><td>Win</td><td>305</td></tr><tr><td>214</td><td>1</td><td>Mumbai Indians</td><td>Wankhede Stadium</td><td>Rohit Sharma</td><td>105</td><td>Shawn Bowers</td><td>Batsman</td><td>3</td><td>201</td><td>8</td><td>Win</td><td>302</td></tr><tr><td>212</td><td>1</td><td>Mumbai Indians</td><td>Wankhede Stadium</td><td>Rohit Sharma</td><td>105</td><td>Shawn Bowers</td><td>Batsman</td><td>5</td><td>227</td><td>6</td><td>Win</td><td>303</td></tr><tr><td>206</td><td>1</td><td>Mumbai Indians</td><td>Wankhede Stadium</td><td>Rohit Sharma</td><td>105</td><td>Shawn Bowers</td><td>Batsman</td><td>2</td><td>215</td><td>6</td><td>Loss</td><td>305</td></tr><tr><td>202</td><td>1</td><td>Mumbai Indians</td><td>Wankhede Stadium</td><td>Rohit Sharma</td><td>105</td><td>Shawn Bowers</td><td>Batsman</td><td>3</td><td>202</td><td>10</td><td>Loss</td><td>304</td></tr><tr><td>219</td><td>2</td><td>Chennai Super Kings</td><td>M. A. Chidambaram Stadium</td><td>MS Dhoni</td><td>108</td><td>Jared Knox</td><td>Bowler</td><td>3</td><td>194</td><td>7</td><td>Loss</td><td>303</td></tr><tr><td>218</td><td>2</td><td>Chennai Super Kings</td><td>M. A. Chidambaram Stadium</td><td>MS Dhoni</td><td>108</td><td>Jared Knox</td><td>Bowler</td><td>1</td><td>190</td><td>5</td><td>Tie</td><td>304</td></tr><tr><td>203</td><td>2</td><td>Chennai Super Kings</td><td>M. A. Chidambaram Stadium</td><td>MS Dhoni</td><td>108</td><td>Jared Knox</td><td>Bowler</td><td>3</td><td>238</td><td>8</td><td>Win</td><td>302</td></tr><tr><td>219</td><td>2</td><td>Chennai Super Kings</td><td>M. A. Chidambaram Stadium</td><td>MS Dhoni</td><td>109</td><td>Kevin Conrad</td><td>Bowler</td><td>3</td><td>194</td><td>7</td><td>Loss</td><td>303</td></tr><tr><td>218</td><td>2</td><td>Chennai Super Kings</td><td>M. A. Chidambaram Stadium</td><td>MS Dhoni</td><td>109</td><td>Kevin Conrad</td><td>Bowler</td><td>1</td><td>190</td><td>5</td><td>Tie</td><td>304</td></tr><tr><td>203</td><td>2</td><td>Chennai Super Kings</td><td>M. A. Chidambaram Stadium</td><td>MS Dhoni</td><td>109</td><td>Kevin Conrad</td><td>Bowler</td><td>3</td><td>238</td><td>8</td><td>Win</td><td>302</td></tr><tr><td>216</td><td>4</td><td>Kolkata Knight Riders</td><td>Eden Gardens</td><td>Shreyas Iyer</td><td>110</td><td>Alan Padilla</td><td>All-rounder</td><td>1</td><td>139</td><td>8</td><td>Win</td><td>303</td></tr><tr><td>213</td><td>4</td><td>Kolkata Knight Riders</td><td>Eden Gardens</td><td>Shreyas Iyer</td><td>110</td><td>Alan Padilla</td><td>All-rounder</td><td>2</td><td>190</td><td>9</td><td>Loss</td><td>302</td></tr><tr><td>210</td><td>4</td><td>Kolkata Knight Riders</td><td>Eden Gardens</td><td>Shreyas Iyer</td><td>110</td><td>Alan Padilla</td><td>All-rounder</td><td>3</td><td>233</td><td>7</td><td>Win</td><td>305</td></tr><tr><td>209</td><td>4</td><td>Kolkata Knight Riders</td><td>Eden Gardens</td><td>Shreyas Iyer</td><td>110</td><td>Alan Padilla</td><td>All-rounder</td><td>1</td><td>201</td><td>5</td><td>Tie</td><td>301</td></tr><tr><td>205</td><td>4</td><td>Kolkata Knight Riders</td><td>Eden Gardens</td><td>Shreyas Iyer</td><td>110</td><td>Alan Padilla</td><td>All-rounder</td><td>3</td><td>123</td><td>8</td><td>Tie</td><td>304</td></tr><tr><td>201</td><td>4</td><td>Kolkata Knight Riders</td><td>Eden Gardens</td><td>Shreyas Iyer</td><td>110</td><td>Alan Padilla</td><td>All-rounder</td><td>1</td><td>213</td><td>7</td><td>Tie</td><td>301</td></tr><tr><td>219</td><td>2</td><td>Chennai Super Kings</td><td>M. A. Chidambaram Stadium</td><td>MS Dhoni</td><td>114</td><td>Joshua Baird</td><td>Bowler</td><td>3</td><td>194</td><td>7</td><td>Loss</td><td>303</td></tr><tr><td>218</td><td>2</td><td>Chennai Super Kings</td><td>M. A. Chidambaram Stadium</td><td>MS Dhoni</td><td>114</td><td>Joshua Baird</td><td>Bowler</td><td>1</td><td>190</td><td>5</td><td>Tie</td><td>304</td></tr><tr><td>203</td><td>2</td><td>Chennai Super Kings</td><td>M. A. Chidambaram Stadium</td><td>MS Dhoni</td><td>114</td><td>Joshua Baird</td><td>Bowler</td><td>3</td><td>238</td><td>8</td><td>Win</td><td>302</td></tr><tr><td>216</td><td>4</td><td>Kolkata Knight Riders</td><td>Eden Gardens</td><td>Shreyas Iyer</td><td>115</td><td>Breanna Jackson</td><td>All-rounder</td><td>1</td><td>139</td><td>8</td><td>Win</td><td>303</td></tr><tr><td>213</td><td>4</td><td>Kolkata Knight Riders</td><td>Eden Gardens</td><td>Shreyas Iyer</td><td>115</td><td>Breanna Jackson</td><td>All-rounder</td><td>2</td><td>190</td><td>9</td><td>Loss</td><td>302</td></tr><tr><td>210</td><td>4</td><td>Kolkata Knight Riders</td><td>Eden Gardens</td><td>Shreyas Iyer</td><td>115</td><td>Breanna Jackson</td><td>All-rounder</td><td>3</td><td>233</td><td>7</td><td>Win</td><td>305</td></tr><tr><td>209</td><td>4</td><td>Kolkata Knight Riders</td><td>Eden Gardens</td><td>Shreyas Iyer</td><td>115</td><td>Breanna Jackson</td><td>All-rounder</td><td>1</td><td>201</td><td>5</td><td>Tie</td><td>301</td></tr><tr><td>205</td><td>4</td><td>Kolkata Knight Riders</td><td>Eden Gardens</td><td>Shreyas Iyer</td><td>115</td><td>Breanna Jackson</td><td>All-rounder</td><td>3</td><td>123</td><td>8</td><td>Tie</td><td>304</td></tr><tr><td>201</td><td>4</td><td>Kolkata Knight Riders</td><td>Eden Gardens</td><td>Shreyas Iyer</td><td>115</td><td>Breanna Jackson</td><td>All-rounder</td><td>1</td><td>213</td><td>7</td><td>Tie</td><td>301</td></tr><tr><td>215</td><td>1</td><td>Mumbai Indians</td><td>Wankhede Stadium</td><td>Rohit Sharma</td><td>116</td><td>Bruce Morales</td><td>All-rounder</td><td>3</td><td>242</td><td>8</td><td>Win</td><td>305</td></tr><tr><td>214</td><td>1</td><td>Mumbai Indians</td><td>Wankhede Stadium</td><td>Rohit Sharma</td><td>116</td><td>Bruce Morales</td><td>All-rounder</td><td>3</td><td>201</td><td>8</td><td>Win</td><td>302</td></tr><tr><td>212</td><td>1</td><td>Mumbai Indians</td><td>Wankhede Stadium</td><td>Rohit Sharma</td><td>116</td><td>Bruce Morales</td><td>All-rounder</td><td>5</td><td>227</td><td>6</td><td>Win</td><td>303</td></tr><tr><td>206</td><td>1</td><td>Mumbai Indians</td><td>Wankhede Stadium</td><td>Rohit Sharma</td><td>116</td><td>Bruce Morales</td><td>All-rounder</td><td>2</td><td>215</td><td>6</td><td>Loss</td><td>305</td></tr><tr><td>202</td><td>1</td><td>Mumbai Indians</td><td>Wankhede Stadium</td><td>Rohit Sharma</td><td>116</td><td>Bruce Morales</td><td>All-rounder</td><td>3</td><td>202</td><td>10</td><td>Loss</td><td>304</td></tr><tr><td>215</td><td>1</td><td>Mumbai Indians</td><td>Wankhede Stadium</td><td>Rohit Sharma</td><td>120</td><td>Justin White</td><td>Batsman</td><td>3</td><td>242</td><td>8</td><td>Win</td><td>305</td></tr><tr><td>214</td><td>1</td><td>Mumbai Indians</td><td>Wankhede Stadium</td><td>Rohit Sharma</td><td>120</td><td>Justin White</td><td>Batsman</td><td>3</td><td>201</td><td>8</td><td>Win</td><td>302</td></tr><tr><td>212</td><td>1</td><td>Mumbai Indians</td><td>Wankhede Stadium</td><td>Rohit Sharma</td><td>120</td><td>Justin White</td><td>Batsman</td><td>5</td><td>227</td><td>6</td><td>Win</td><td>303</td></tr><tr><td>206</td><td>1</td><td>Mumbai Indians</td><td>Wankhede Stadium</td><td>Rohit Sharma</td><td>120</td><td>Justin White</td><td>Batsman</td><td>2</td><td>215</td><td>6</td><td>Loss</td><td>305</td></tr><tr><td>202</td><td>1</td><td>Mumbai Indians</td><td>Wankhede Stadium</td><td>Rohit Sharma</td><td>120</td><td>Justin White</td><td>Batsman</td><td>3</td><td>202</td><td>10</td><td>Loss</td><td>304</td></tr></tbody></table></div>"
      ]
     },
     "metadata": {
      "application/vnd.databricks.v1+output": {
       "addedWidgets": {},
       "aggData": [],
       "aggError": "",
       "aggOverflow": false,
       "aggSchema": [],
       "aggSeriesLimitReached": false,
       "aggType": "",
       "arguments": {},
       "columnCustomDisplayInfos": {},
       "data": [
        [
         215,
         1,
         "Mumbai Indians",
         "Wankhede Stadium",
         "Rohit Sharma",
         101,
         "Thomas Mendez",
         "All-rounder",
         3,
         242,
         8,
         "Win",
         305
        ],
        [
         214,
         1,
         "Mumbai Indians",
         "Wankhede Stadium",
         "Rohit Sharma",
         101,
         "Thomas Mendez",
         "All-rounder",
         3,
         201,
         8,
         "Win",
         302
        ],
        [
         212,
         1,
         "Mumbai Indians",
         "Wankhede Stadium",
         "Rohit Sharma",
         101,
         "Thomas Mendez",
         "All-rounder",
         5,
         227,
         6,
         "Win",
         303
        ],
        [
         206,
         1,
         "Mumbai Indians",
         "Wankhede Stadium",
         "Rohit Sharma",
         101,
         "Thomas Mendez",
         "All-rounder",
         2,
         215,
         6,
         "Loss",
         305
        ],
        [
         202,
         1,
         "Mumbai Indians",
         "Wankhede Stadium",
         "Rohit Sharma",
         101,
         "Thomas Mendez",
         "All-rounder",
         3,
         202,
         10,
         "Loss",
         304
        ],
        [
         219,
         2,
         "Chennai Super Kings",
         "M. A. Chidambaram Stadium",
         "MS Dhoni",
         104,
         "Amber Bell",
         "Bowler",
         3,
         194,
         7,
         "Loss",
         303
        ],
        [
         218,
         2,
         "Chennai Super Kings",
         "M. A. Chidambaram Stadium",
         "MS Dhoni",
         104,
         "Amber Bell",
         "Bowler",
         1,
         190,
         5,
         "Tie",
         304
        ],
        [
         203,
         2,
         "Chennai Super Kings",
         "M. A. Chidambaram Stadium",
         "MS Dhoni",
         104,
         "Amber Bell",
         "Bowler",
         3,
         238,
         8,
         "Win",
         302
        ],
        [
         215,
         1,
         "Mumbai Indians",
         "Wankhede Stadium",
         "Rohit Sharma",
         105,
         "Shawn Bowers",
         "Batsman",
         3,
         242,
         8,
         "Win",
         305
        ],
        [
         214,
         1,
         "Mumbai Indians",
         "Wankhede Stadium",
         "Rohit Sharma",
         105,
         "Shawn Bowers",
         "Batsman",
         3,
         201,
         8,
         "Win",
         302
        ],
        [
         212,
         1,
         "Mumbai Indians",
         "Wankhede Stadium",
         "Rohit Sharma",
         105,
         "Shawn Bowers",
         "Batsman",
         5,
         227,
         6,
         "Win",
         303
        ],
        [
         206,
         1,
         "Mumbai Indians",
         "Wankhede Stadium",
         "Rohit Sharma",
         105,
         "Shawn Bowers",
         "Batsman",
         2,
         215,
         6,
         "Loss",
         305
        ],
        [
         202,
         1,
         "Mumbai Indians",
         "Wankhede Stadium",
         "Rohit Sharma",
         105,
         "Shawn Bowers",
         "Batsman",
         3,
         202,
         10,
         "Loss",
         304
        ],
        [
         219,
         2,
         "Chennai Super Kings",
         "M. A. Chidambaram Stadium",
         "MS Dhoni",
         108,
         "Jared Knox",
         "Bowler",
         3,
         194,
         7,
         "Loss",
         303
        ],
        [
         218,
         2,
         "Chennai Super Kings",
         "M. A. Chidambaram Stadium",
         "MS Dhoni",
         108,
         "Jared Knox",
         "Bowler",
         1,
         190,
         5,
         "Tie",
         304
        ],
        [
         203,
         2,
         "Chennai Super Kings",
         "M. A. Chidambaram Stadium",
         "MS Dhoni",
         108,
         "Jared Knox",
         "Bowler",
         3,
         238,
         8,
         "Win",
         302
        ],
        [
         219,
         2,
         "Chennai Super Kings",
         "M. A. Chidambaram Stadium",
         "MS Dhoni",
         109,
         "Kevin Conrad",
         "Bowler",
         3,
         194,
         7,
         "Loss",
         303
        ],
        [
         218,
         2,
         "Chennai Super Kings",
         "M. A. Chidambaram Stadium",
         "MS Dhoni",
         109,
         "Kevin Conrad",
         "Bowler",
         1,
         190,
         5,
         "Tie",
         304
        ],
        [
         203,
         2,
         "Chennai Super Kings",
         "M. A. Chidambaram Stadium",
         "MS Dhoni",
         109,
         "Kevin Conrad",
         "Bowler",
         3,
         238,
         8,
         "Win",
         302
        ],
        [
         216,
         4,
         "Kolkata Knight Riders",
         "Eden Gardens",
         "Shreyas Iyer",
         110,
         "Alan Padilla",
         "All-rounder",
         1,
         139,
         8,
         "Win",
         303
        ],
        [
         213,
         4,
         "Kolkata Knight Riders",
         "Eden Gardens",
         "Shreyas Iyer",
         110,
         "Alan Padilla",
         "All-rounder",
         2,
         190,
         9,
         "Loss",
         302
        ],
        [
         210,
         4,
         "Kolkata Knight Riders",
         "Eden Gardens",
         "Shreyas Iyer",
         110,
         "Alan Padilla",
         "All-rounder",
         3,
         233,
         7,
         "Win",
         305
        ],
        [
         209,
         4,
         "Kolkata Knight Riders",
         "Eden Gardens",
         "Shreyas Iyer",
         110,
         "Alan Padilla",
         "All-rounder",
         1,
         201,
         5,
         "Tie",
         301
        ],
        [
         205,
         4,
         "Kolkata Knight Riders",
         "Eden Gardens",
         "Shreyas Iyer",
         110,
         "Alan Padilla",
         "All-rounder",
         3,
         123,
         8,
         "Tie",
         304
        ],
        [
         201,
         4,
         "Kolkata Knight Riders",
         "Eden Gardens",
         "Shreyas Iyer",
         110,
         "Alan Padilla",
         "All-rounder",
         1,
         213,
         7,
         "Tie",
         301
        ],
        [
         219,
         2,
         "Chennai Super Kings",
         "M. A. Chidambaram Stadium",
         "MS Dhoni",
         114,
         "Joshua Baird",
         "Bowler",
         3,
         194,
         7,
         "Loss",
         303
        ],
        [
         218,
         2,
         "Chennai Super Kings",
         "M. A. Chidambaram Stadium",
         "MS Dhoni",
         114,
         "Joshua Baird",
         "Bowler",
         1,
         190,
         5,
         "Tie",
         304
        ],
        [
         203,
         2,
         "Chennai Super Kings",
         "M. A. Chidambaram Stadium",
         "MS Dhoni",
         114,
         "Joshua Baird",
         "Bowler",
         3,
         238,
         8,
         "Win",
         302
        ],
        [
         216,
         4,
         "Kolkata Knight Riders",
         "Eden Gardens",
         "Shreyas Iyer",
         115,
         "Breanna Jackson",
         "All-rounder",
         1,
         139,
         8,
         "Win",
         303
        ],
        [
         213,
         4,
         "Kolkata Knight Riders",
         "Eden Gardens",
         "Shreyas Iyer",
         115,
         "Breanna Jackson",
         "All-rounder",
         2,
         190,
         9,
         "Loss",
         302
        ],
        [
         210,
         4,
         "Kolkata Knight Riders",
         "Eden Gardens",
         "Shreyas Iyer",
         115,
         "Breanna Jackson",
         "All-rounder",
         3,
         233,
         7,
         "Win",
         305
        ],
        [
         209,
         4,
         "Kolkata Knight Riders",
         "Eden Gardens",
         "Shreyas Iyer",
         115,
         "Breanna Jackson",
         "All-rounder",
         1,
         201,
         5,
         "Tie",
         301
        ],
        [
         205,
         4,
         "Kolkata Knight Riders",
         "Eden Gardens",
         "Shreyas Iyer",
         115,
         "Breanna Jackson",
         "All-rounder",
         3,
         123,
         8,
         "Tie",
         304
        ],
        [
         201,
         4,
         "Kolkata Knight Riders",
         "Eden Gardens",
         "Shreyas Iyer",
         115,
         "Breanna Jackson",
         "All-rounder",
         1,
         213,
         7,
         "Tie",
         301
        ],
        [
         215,
         1,
         "Mumbai Indians",
         "Wankhede Stadium",
         "Rohit Sharma",
         116,
         "Bruce Morales",
         "All-rounder",
         3,
         242,
         8,
         "Win",
         305
        ],
        [
         214,
         1,
         "Mumbai Indians",
         "Wankhede Stadium",
         "Rohit Sharma",
         116,
         "Bruce Morales",
         "All-rounder",
         3,
         201,
         8,
         "Win",
         302
        ],
        [
         212,
         1,
         "Mumbai Indians",
         "Wankhede Stadium",
         "Rohit Sharma",
         116,
         "Bruce Morales",
         "All-rounder",
         5,
         227,
         6,
         "Win",
         303
        ],
        [
         206,
         1,
         "Mumbai Indians",
         "Wankhede Stadium",
         "Rohit Sharma",
         116,
         "Bruce Morales",
         "All-rounder",
         2,
         215,
         6,
         "Loss",
         305
        ],
        [
         202,
         1,
         "Mumbai Indians",
         "Wankhede Stadium",
         "Rohit Sharma",
         116,
         "Bruce Morales",
         "All-rounder",
         3,
         202,
         10,
         "Loss",
         304
        ],
        [
         215,
         1,
         "Mumbai Indians",
         "Wankhede Stadium",
         "Rohit Sharma",
         120,
         "Justin White",
         "Batsman",
         3,
         242,
         8,
         "Win",
         305
        ],
        [
         214,
         1,
         "Mumbai Indians",
         "Wankhede Stadium",
         "Rohit Sharma",
         120,
         "Justin White",
         "Batsman",
         3,
         201,
         8,
         "Win",
         302
        ],
        [
         212,
         1,
         "Mumbai Indians",
         "Wankhede Stadium",
         "Rohit Sharma",
         120,
         "Justin White",
         "Batsman",
         5,
         227,
         6,
         "Win",
         303
        ],
        [
         206,
         1,
         "Mumbai Indians",
         "Wankhede Stadium",
         "Rohit Sharma",
         120,
         "Justin White",
         "Batsman",
         2,
         215,
         6,
         "Loss",
         305
        ],
        [
         202,
         1,
         "Mumbai Indians",
         "Wankhede Stadium",
         "Rohit Sharma",
         120,
         "Justin White",
         "Batsman",
         3,
         202,
         10,
         "Loss",
         304
        ]
       ],
       "datasetInfos": [],
       "dbfsResultPath": null,
       "isJsonSchema": true,
       "metadata": {},
       "overflow": false,
       "plotOptions": {
        "customPlotOptions": {},
        "displayType": "table",
        "pivotAggregation": null,
        "pivotColumns": null,
        "xColumns": null,
        "yColumns": null
       },
       "removedWidgets": [],
       "schema": [
        {
         "metadata": "{}",
         "name": "match_id",
         "type": "\"integer\""
        },
        {
         "metadata": "{}",
         "name": "team_id",
         "type": "\"integer\""
        },
        {
         "metadata": "{}",
         "name": "team_name",
         "type": "\"string\""
        },
        {
         "metadata": "{}",
         "name": "home_ground",
         "type": "\"string\""
        },
        {
         "metadata": "{}",
         "name": "captain",
         "type": "\"string\""
        },
        {
         "metadata": "{}",
         "name": "player_id",
         "type": "\"integer\""
        },
        {
         "metadata": "{}",
         "name": "player_name",
         "type": "\"string\""
        },
        {
         "metadata": "{}",
         "name": "player_role",
         "type": "\"string\""
        },
        {
         "metadata": "{}",
         "name": "opponent_team_id",
         "type": "\"integer\""
        },
        {
         "metadata": "{}",
         "name": "runs_scored",
         "type": "\"integer\""
        },
        {
         "metadata": "{}",
         "name": "wickets_taken",
         "type": "\"integer\""
        },
        {
         "metadata": "{}",
         "name": "match_result",
         "type": "\"string\""
        },
        {
         "metadata": "{}",
         "name": "stadium_id",
         "type": "\"integer\""
        }
       ],
       "type": "table"
      }
     },
     "output_type": "display_data"
    }
   ],
   "source": [
    "df_team_player_match1 = df_team_player_match.join(df_match_stadium_silver, \"match_id\", \"inner\").drop(df_match_stadium_silver.ingestion_date,df_match_stadium_silver.source_file)\n",
    "df_team_player_match1.display()"
   ]
  },
  {
   "cell_type": "markdown",
   "metadata": {
    "application/vnd.databricks.v1+cell": {
     "cellMetadata": {
      "byteLimit": 2048000,
      "rowLimit": 10000
     },
     "inputWidgets": {},
     "nuid": "a06ab938-a1b7-4b3c-bf89-c5f5141b62e6",
     "showTitle": false,
     "tableResultSettingsMap": {},
     "title": ""
    }
   },
   "source": [
    "join result with stadium_silver"
   ]
  },
  {
   "cell_type": "code",
   "execution_count": 0,
   "metadata": {
    "application/vnd.databricks.v1+cell": {
     "cellMetadata": {
      "byteLimit": 2048000,
      "rowLimit": 10000
     },
     "inputWidgets": {},
     "nuid": "0471ef10-ca8c-4e79-83d3-e66040048a65",
     "showTitle": false,
     "tableResultSettingsMap": {},
     "title": ""
    }
   },
   "outputs": [
    {
     "data": {
      "text/html": [
       "<style scoped>\n",
       "  .table-result-container {\n",
       "    max-height: 300px;\n",
       "    overflow: auto;\n",
       "  }\n",
       "  table, th, td {\n",
       "    border: 1px solid black;\n",
       "    border-collapse: collapse;\n",
       "  }\n",
       "  th, td {\n",
       "    padding: 5px;\n",
       "  }\n",
       "  th {\n",
       "    text-align: left;\n",
       "  }\n",
       "</style><div class='table-result-container'><table class='table-result'><thead style='background-color: white'><tr><th>stadium_id</th><th>match_id</th><th>team_id</th><th>team_name</th><th>home_ground</th><th>captain</th><th>player_id</th><th>player_name</th><th>player_role</th><th>opponent_team_id</th><th>runs_scored</th><th>wickets_taken</th><th>match_result</th><th>stadium_name</th><th>city</th><th>capacity</th></tr></thead><tbody><tr><td>303</td><td>212</td><td>1</td><td>Mumbai Indians</td><td>Wankhede Stadium</td><td>Rohit Sharma</td><td>101</td><td>Thomas Mendez</td><td>All-rounder</td><td>5</td><td>227</td><td>6</td><td>Win</td><td>Arun Jaitley Stadium</td><td>Delhi</td><td>41820</td></tr><tr><td>304</td><td>202</td><td>1</td><td>Mumbai Indians</td><td>Wankhede Stadium</td><td>Rohit Sharma</td><td>101</td><td>Thomas Mendez</td><td>All-rounder</td><td>3</td><td>202</td><td>10</td><td>Loss</td><td>Eden Gardens</td><td>Kolkata</td><td>66000</td></tr><tr><td>303</td><td>219</td><td>2</td><td>Chennai Super Kings</td><td>M. A. Chidambaram Stadium</td><td>MS Dhoni</td><td>104</td><td>Amber Bell</td><td>Bowler</td><td>3</td><td>194</td><td>7</td><td>Loss</td><td>Arun Jaitley Stadium</td><td>Delhi</td><td>41820</td></tr><tr><td>304</td><td>218</td><td>2</td><td>Chennai Super Kings</td><td>M. A. Chidambaram Stadium</td><td>MS Dhoni</td><td>104</td><td>Amber Bell</td><td>Bowler</td><td>1</td><td>190</td><td>5</td><td>Tie</td><td>Eden Gardens</td><td>Kolkata</td><td>66000</td></tr><tr><td>303</td><td>212</td><td>1</td><td>Mumbai Indians</td><td>Wankhede Stadium</td><td>Rohit Sharma</td><td>105</td><td>Shawn Bowers</td><td>Batsman</td><td>5</td><td>227</td><td>6</td><td>Win</td><td>Arun Jaitley Stadium</td><td>Delhi</td><td>41820</td></tr><tr><td>304</td><td>202</td><td>1</td><td>Mumbai Indians</td><td>Wankhede Stadium</td><td>Rohit Sharma</td><td>105</td><td>Shawn Bowers</td><td>Batsman</td><td>3</td><td>202</td><td>10</td><td>Loss</td><td>Eden Gardens</td><td>Kolkata</td><td>66000</td></tr><tr><td>303</td><td>219</td><td>2</td><td>Chennai Super Kings</td><td>M. A. Chidambaram Stadium</td><td>MS Dhoni</td><td>108</td><td>Jared Knox</td><td>Bowler</td><td>3</td><td>194</td><td>7</td><td>Loss</td><td>Arun Jaitley Stadium</td><td>Delhi</td><td>41820</td></tr><tr><td>304</td><td>218</td><td>2</td><td>Chennai Super Kings</td><td>M. A. Chidambaram Stadium</td><td>MS Dhoni</td><td>108</td><td>Jared Knox</td><td>Bowler</td><td>1</td><td>190</td><td>5</td><td>Tie</td><td>Eden Gardens</td><td>Kolkata</td><td>66000</td></tr><tr><td>303</td><td>219</td><td>2</td><td>Chennai Super Kings</td><td>M. A. Chidambaram Stadium</td><td>MS Dhoni</td><td>109</td><td>Kevin Conrad</td><td>Bowler</td><td>3</td><td>194</td><td>7</td><td>Loss</td><td>Arun Jaitley Stadium</td><td>Delhi</td><td>41820</td></tr><tr><td>304</td><td>218</td><td>2</td><td>Chennai Super Kings</td><td>M. A. Chidambaram Stadium</td><td>MS Dhoni</td><td>109</td><td>Kevin Conrad</td><td>Bowler</td><td>1</td><td>190</td><td>5</td><td>Tie</td><td>Eden Gardens</td><td>Kolkata</td><td>66000</td></tr><tr><td>303</td><td>216</td><td>4</td><td>Kolkata Knight Riders</td><td>Eden Gardens</td><td>Shreyas Iyer</td><td>110</td><td>Alan Padilla</td><td>All-rounder</td><td>1</td><td>139</td><td>8</td><td>Win</td><td>Arun Jaitley Stadium</td><td>Delhi</td><td>41820</td></tr><tr><td>301</td><td>209</td><td>4</td><td>Kolkata Knight Riders</td><td>Eden Gardens</td><td>Shreyas Iyer</td><td>110</td><td>Alan Padilla</td><td>All-rounder</td><td>1</td><td>201</td><td>5</td><td>Tie</td><td>Wankhede Stadium</td><td>Mumbai</td><td>33108</td></tr><tr><td>304</td><td>205</td><td>4</td><td>Kolkata Knight Riders</td><td>Eden Gardens</td><td>Shreyas Iyer</td><td>110</td><td>Alan Padilla</td><td>All-rounder</td><td>3</td><td>123</td><td>8</td><td>Tie</td><td>Eden Gardens</td><td>Kolkata</td><td>66000</td></tr><tr><td>301</td><td>201</td><td>4</td><td>Kolkata Knight Riders</td><td>Eden Gardens</td><td>Shreyas Iyer</td><td>110</td><td>Alan Padilla</td><td>All-rounder</td><td>1</td><td>213</td><td>7</td><td>Tie</td><td>Wankhede Stadium</td><td>Mumbai</td><td>33108</td></tr><tr><td>303</td><td>219</td><td>2</td><td>Chennai Super Kings</td><td>M. A. Chidambaram Stadium</td><td>MS Dhoni</td><td>114</td><td>Joshua Baird</td><td>Bowler</td><td>3</td><td>194</td><td>7</td><td>Loss</td><td>Arun Jaitley Stadium</td><td>Delhi</td><td>41820</td></tr><tr><td>304</td><td>218</td><td>2</td><td>Chennai Super Kings</td><td>M. A. Chidambaram Stadium</td><td>MS Dhoni</td><td>114</td><td>Joshua Baird</td><td>Bowler</td><td>1</td><td>190</td><td>5</td><td>Tie</td><td>Eden Gardens</td><td>Kolkata</td><td>66000</td></tr><tr><td>303</td><td>216</td><td>4</td><td>Kolkata Knight Riders</td><td>Eden Gardens</td><td>Shreyas Iyer</td><td>115</td><td>Breanna Jackson</td><td>All-rounder</td><td>1</td><td>139</td><td>8</td><td>Win</td><td>Arun Jaitley Stadium</td><td>Delhi</td><td>41820</td></tr><tr><td>301</td><td>209</td><td>4</td><td>Kolkata Knight Riders</td><td>Eden Gardens</td><td>Shreyas Iyer</td><td>115</td><td>Breanna Jackson</td><td>All-rounder</td><td>1</td><td>201</td><td>5</td><td>Tie</td><td>Wankhede Stadium</td><td>Mumbai</td><td>33108</td></tr><tr><td>304</td><td>205</td><td>4</td><td>Kolkata Knight Riders</td><td>Eden Gardens</td><td>Shreyas Iyer</td><td>115</td><td>Breanna Jackson</td><td>All-rounder</td><td>3</td><td>123</td><td>8</td><td>Tie</td><td>Eden Gardens</td><td>Kolkata</td><td>66000</td></tr><tr><td>301</td><td>201</td><td>4</td><td>Kolkata Knight Riders</td><td>Eden Gardens</td><td>Shreyas Iyer</td><td>115</td><td>Breanna Jackson</td><td>All-rounder</td><td>1</td><td>213</td><td>7</td><td>Tie</td><td>Wankhede Stadium</td><td>Mumbai</td><td>33108</td></tr><tr><td>303</td><td>212</td><td>1</td><td>Mumbai Indians</td><td>Wankhede Stadium</td><td>Rohit Sharma</td><td>116</td><td>Bruce Morales</td><td>All-rounder</td><td>5</td><td>227</td><td>6</td><td>Win</td><td>Arun Jaitley Stadium</td><td>Delhi</td><td>41820</td></tr><tr><td>304</td><td>202</td><td>1</td><td>Mumbai Indians</td><td>Wankhede Stadium</td><td>Rohit Sharma</td><td>116</td><td>Bruce Morales</td><td>All-rounder</td><td>3</td><td>202</td><td>10</td><td>Loss</td><td>Eden Gardens</td><td>Kolkata</td><td>66000</td></tr><tr><td>303</td><td>212</td><td>1</td><td>Mumbai Indians</td><td>Wankhede Stadium</td><td>Rohit Sharma</td><td>120</td><td>Justin White</td><td>Batsman</td><td>5</td><td>227</td><td>6</td><td>Win</td><td>Arun Jaitley Stadium</td><td>Delhi</td><td>41820</td></tr><tr><td>304</td><td>202</td><td>1</td><td>Mumbai Indians</td><td>Wankhede Stadium</td><td>Rohit Sharma</td><td>120</td><td>Justin White</td><td>Batsman</td><td>3</td><td>202</td><td>10</td><td>Loss</td><td>Eden Gardens</td><td>Kolkata</td><td>66000</td></tr></tbody></table></div>"
      ]
     },
     "metadata": {
      "application/vnd.databricks.v1+output": {
       "addedWidgets": {},
       "aggData": [],
       "aggError": "",
       "aggOverflow": false,
       "aggSchema": [],
       "aggSeriesLimitReached": false,
       "aggType": "",
       "arguments": {},
       "columnCustomDisplayInfos": {},
       "data": [
        [
         303,
         212,
         1,
         "Mumbai Indians",
         "Wankhede Stadium",
         "Rohit Sharma",
         101,
         "Thomas Mendez",
         "All-rounder",
         5,
         227,
         6,
         "Win",
         "Arun Jaitley Stadium",
         "Delhi",
         41820
        ],
        [
         304,
         202,
         1,
         "Mumbai Indians",
         "Wankhede Stadium",
         "Rohit Sharma",
         101,
         "Thomas Mendez",
         "All-rounder",
         3,
         202,
         10,
         "Loss",
         "Eden Gardens",
         "Kolkata",
         66000
        ],
        [
         303,
         219,
         2,
         "Chennai Super Kings",
         "M. A. Chidambaram Stadium",
         "MS Dhoni",
         104,
         "Amber Bell",
         "Bowler",
         3,
         194,
         7,
         "Loss",
         "Arun Jaitley Stadium",
         "Delhi",
         41820
        ],
        [
         304,
         218,
         2,
         "Chennai Super Kings",
         "M. A. Chidambaram Stadium",
         "MS Dhoni",
         104,
         "Amber Bell",
         "Bowler",
         1,
         190,
         5,
         "Tie",
         "Eden Gardens",
         "Kolkata",
         66000
        ],
        [
         303,
         212,
         1,
         "Mumbai Indians",
         "Wankhede Stadium",
         "Rohit Sharma",
         105,
         "Shawn Bowers",
         "Batsman",
         5,
         227,
         6,
         "Win",
         "Arun Jaitley Stadium",
         "Delhi",
         41820
        ],
        [
         304,
         202,
         1,
         "Mumbai Indians",
         "Wankhede Stadium",
         "Rohit Sharma",
         105,
         "Shawn Bowers",
         "Batsman",
         3,
         202,
         10,
         "Loss",
         "Eden Gardens",
         "Kolkata",
         66000
        ],
        [
         303,
         219,
         2,
         "Chennai Super Kings",
         "M. A. Chidambaram Stadium",
         "MS Dhoni",
         108,
         "Jared Knox",
         "Bowler",
         3,
         194,
         7,
         "Loss",
         "Arun Jaitley Stadium",
         "Delhi",
         41820
        ],
        [
         304,
         218,
         2,
         "Chennai Super Kings",
         "M. A. Chidambaram Stadium",
         "MS Dhoni",
         108,
         "Jared Knox",
         "Bowler",
         1,
         190,
         5,
         "Tie",
         "Eden Gardens",
         "Kolkata",
         66000
        ],
        [
         303,
         219,
         2,
         "Chennai Super Kings",
         "M. A. Chidambaram Stadium",
         "MS Dhoni",
         109,
         "Kevin Conrad",
         "Bowler",
         3,
         194,
         7,
         "Loss",
         "Arun Jaitley Stadium",
         "Delhi",
         41820
        ],
        [
         304,
         218,
         2,
         "Chennai Super Kings",
         "M. A. Chidambaram Stadium",
         "MS Dhoni",
         109,
         "Kevin Conrad",
         "Bowler",
         1,
         190,
         5,
         "Tie",
         "Eden Gardens",
         "Kolkata",
         66000
        ],
        [
         303,
         216,
         4,
         "Kolkata Knight Riders",
         "Eden Gardens",
         "Shreyas Iyer",
         110,
         "Alan Padilla",
         "All-rounder",
         1,
         139,
         8,
         "Win",
         "Arun Jaitley Stadium",
         "Delhi",
         41820
        ],
        [
         301,
         209,
         4,
         "Kolkata Knight Riders",
         "Eden Gardens",
         "Shreyas Iyer",
         110,
         "Alan Padilla",
         "All-rounder",
         1,
         201,
         5,
         "Tie",
         "Wankhede Stadium",
         "Mumbai",
         33108
        ],
        [
         304,
         205,
         4,
         "Kolkata Knight Riders",
         "Eden Gardens",
         "Shreyas Iyer",
         110,
         "Alan Padilla",
         "All-rounder",
         3,
         123,
         8,
         "Tie",
         "Eden Gardens",
         "Kolkata",
         66000
        ],
        [
         301,
         201,
         4,
         "Kolkata Knight Riders",
         "Eden Gardens",
         "Shreyas Iyer",
         110,
         "Alan Padilla",
         "All-rounder",
         1,
         213,
         7,
         "Tie",
         "Wankhede Stadium",
         "Mumbai",
         33108
        ],
        [
         303,
         219,
         2,
         "Chennai Super Kings",
         "M. A. Chidambaram Stadium",
         "MS Dhoni",
         114,
         "Joshua Baird",
         "Bowler",
         3,
         194,
         7,
         "Loss",
         "Arun Jaitley Stadium",
         "Delhi",
         41820
        ],
        [
         304,
         218,
         2,
         "Chennai Super Kings",
         "M. A. Chidambaram Stadium",
         "MS Dhoni",
         114,
         "Joshua Baird",
         "Bowler",
         1,
         190,
         5,
         "Tie",
         "Eden Gardens",
         "Kolkata",
         66000
        ],
        [
         303,
         216,
         4,
         "Kolkata Knight Riders",
         "Eden Gardens",
         "Shreyas Iyer",
         115,
         "Breanna Jackson",
         "All-rounder",
         1,
         139,
         8,
         "Win",
         "Arun Jaitley Stadium",
         "Delhi",
         41820
        ],
        [
         301,
         209,
         4,
         "Kolkata Knight Riders",
         "Eden Gardens",
         "Shreyas Iyer",
         115,
         "Breanna Jackson",
         "All-rounder",
         1,
         201,
         5,
         "Tie",
         "Wankhede Stadium",
         "Mumbai",
         33108
        ],
        [
         304,
         205,
         4,
         "Kolkata Knight Riders",
         "Eden Gardens",
         "Shreyas Iyer",
         115,
         "Breanna Jackson",
         "All-rounder",
         3,
         123,
         8,
         "Tie",
         "Eden Gardens",
         "Kolkata",
         66000
        ],
        [
         301,
         201,
         4,
         "Kolkata Knight Riders",
         "Eden Gardens",
         "Shreyas Iyer",
         115,
         "Breanna Jackson",
         "All-rounder",
         1,
         213,
         7,
         "Tie",
         "Wankhede Stadium",
         "Mumbai",
         33108
        ],
        [
         303,
         212,
         1,
         "Mumbai Indians",
         "Wankhede Stadium",
         "Rohit Sharma",
         116,
         "Bruce Morales",
         "All-rounder",
         5,
         227,
         6,
         "Win",
         "Arun Jaitley Stadium",
         "Delhi",
         41820
        ],
        [
         304,
         202,
         1,
         "Mumbai Indians",
         "Wankhede Stadium",
         "Rohit Sharma",
         116,
         "Bruce Morales",
         "All-rounder",
         3,
         202,
         10,
         "Loss",
         "Eden Gardens",
         "Kolkata",
         66000
        ],
        [
         303,
         212,
         1,
         "Mumbai Indians",
         "Wankhede Stadium",
         "Rohit Sharma",
         120,
         "Justin White",
         "Batsman",
         5,
         227,
         6,
         "Win",
         "Arun Jaitley Stadium",
         "Delhi",
         41820
        ],
        [
         304,
         202,
         1,
         "Mumbai Indians",
         "Wankhede Stadium",
         "Rohit Sharma",
         120,
         "Justin White",
         "Batsman",
         3,
         202,
         10,
         "Loss",
         "Eden Gardens",
         "Kolkata",
         66000
        ]
       ],
       "datasetInfos": [],
       "dbfsResultPath": null,
       "isJsonSchema": true,
       "metadata": {},
       "overflow": false,
       "plotOptions": {
        "customPlotOptions": {},
        "displayType": "table",
        "pivotAggregation": null,
        "pivotColumns": null,
        "xColumns": null,
        "yColumns": null
       },
       "removedWidgets": [],
       "schema": [
        {
         "metadata": "{}",
         "name": "stadium_id",
         "type": "\"integer\""
        },
        {
         "metadata": "{}",
         "name": "match_id",
         "type": "\"integer\""
        },
        {
         "metadata": "{}",
         "name": "team_id",
         "type": "\"integer\""
        },
        {
         "metadata": "{}",
         "name": "team_name",
         "type": "\"string\""
        },
        {
         "metadata": "{}",
         "name": "home_ground",
         "type": "\"string\""
        },
        {
         "metadata": "{}",
         "name": "captain",
         "type": "\"string\""
        },
        {
         "metadata": "{}",
         "name": "player_id",
         "type": "\"integer\""
        },
        {
         "metadata": "{}",
         "name": "player_name",
         "type": "\"string\""
        },
        {
         "metadata": "{}",
         "name": "player_role",
         "type": "\"string\""
        },
        {
         "metadata": "{}",
         "name": "opponent_team_id",
         "type": "\"integer\""
        },
        {
         "metadata": "{}",
         "name": "runs_scored",
         "type": "\"integer\""
        },
        {
         "metadata": "{}",
         "name": "wickets_taken",
         "type": "\"integer\""
        },
        {
         "metadata": "{}",
         "name": "match_result",
         "type": "\"string\""
        },
        {
         "metadata": "{}",
         "name": "stadium_name",
         "type": "\"string\""
        },
        {
         "metadata": "{}",
         "name": "city",
         "type": "\"string\""
        },
        {
         "metadata": "{}",
         "name": "capacity",
         "type": "\"integer\""
        }
       ],
       "type": "table"
      }
     },
     "output_type": "display_data"
    }
   ],
   "source": [
    "df_team_player_match2 = df_team_player_match1.join(df_stadium_silver, \"stadium_id\", \"inner\").drop(df_stadium_silver.ingestion_date,df_stadium_silver.source_file)\n",
    "df_team_player_match2.display()"
   ]
  },
  {
   "cell_type": "markdown",
   "metadata": {
    "application/vnd.databricks.v1+cell": {
     "cellMetadata": {
      "byteLimit": 2048000,
      "rowLimit": 10000
     },
     "inputWidgets": {},
     "nuid": "7fddb6af-cac8-4c73-86ce-2dc6317d9d2e",
     "showTitle": false,
     "tableResultSettingsMap": {},
     "title": ""
    }
   },
   "source": [
    "**join result with player_performance_silver**\n"
   ]
  },
  {
   "cell_type": "code",
   "execution_count": 0,
   "metadata": {
    "application/vnd.databricks.v1+cell": {
     "cellMetadata": {
      "byteLimit": 2048000,
      "rowLimit": 10000
     },
     "inputWidgets": {},
     "nuid": "726c3705-15ef-485b-8022-8ec09d9f2950",
     "showTitle": false,
     "tableResultSettingsMap": {},
     "title": ""
    }
   },
   "outputs": [
    {
     "data": {
      "text/html": [
       "<style scoped>\n",
       "  .table-result-container {\n",
       "    max-height: 300px;\n",
       "    overflow: auto;\n",
       "  }\n",
       "  table, th, td {\n",
       "    border: 1px solid black;\n",
       "    border-collapse: collapse;\n",
       "  }\n",
       "  th, td {\n",
       "    padding: 5px;\n",
       "  }\n",
       "  th {\n",
       "    text-align: left;\n",
       "  }\n",
       "</style><div class='table-result-container'><table class='table-result'><thead style='background-color: white'><tr><th>match_id</th><th>stadium_id</th><th>team_id</th><th>team_name</th><th>home_ground</th><th>captain</th><th>player_id</th><th>player_name</th><th>player_role</th><th>opponent_team_id</th><th>runs_scored</th><th>wickets_taken</th><th>match_result</th><th>stadium_name</th><th>city</th><th>capacity</th><th>player_id</th><th>runs_scored_match</th><th>wickets_taken_match</th><th>ball_taken</th><th>ingestion_date</th><th>source_file</th></tr></thead><tbody><tr><td>202</td><td>304</td><td>1</td><td>Mumbai Indians</td><td>Wankhede Stadium</td><td>Rohit Sharma</td><td>101</td><td>Thomas Mendez</td><td>All-rounder</td><td>3</td><td>202</td><td>10</td><td>Loss</td><td>Eden Gardens</td><td>Kolkata</td><td>66000</td><td>107</td><td>68</td><td>2</td><td>50</td><td>2025-04-05</td><td>part-00000-tid-7698845833304966985-f2eb1a1e-3b57-43f4-b7ed-123aed0374ba-716-1-c000.snappy.parquet</td></tr><tr><td>219</td><td>303</td><td>2</td><td>Chennai Super Kings</td><td>M. A. Chidambaram Stadium</td><td>MS Dhoni</td><td>104</td><td>Amber Bell</td><td>Bowler</td><td>3</td><td>194</td><td>7</td><td>Loss</td><td>Arun Jaitley Stadium</td><td>Delhi</td><td>41820</td><td>110</td><td>75</td><td>3</td><td>50</td><td>2025-04-05</td><td>part-00000-tid-7698845833304966985-f2eb1a1e-3b57-43f4-b7ed-123aed0374ba-716-1-c000.snappy.parquet</td></tr><tr><td>218</td><td>304</td><td>2</td><td>Chennai Super Kings</td><td>M. A. Chidambaram Stadium</td><td>MS Dhoni</td><td>104</td><td>Amber Bell</td><td>Bowler</td><td>1</td><td>190</td><td>5</td><td>Tie</td><td>Eden Gardens</td><td>Kolkata</td><td>66000</td><td>114</td><td>81</td><td>1</td><td>50</td><td>2025-04-05</td><td>part-00000-tid-7698845833304966985-f2eb1a1e-3b57-43f4-b7ed-123aed0374ba-716-1-c000.snappy.parquet</td></tr><tr><td>218</td><td>304</td><td>2</td><td>Chennai Super Kings</td><td>M. A. Chidambaram Stadium</td><td>MS Dhoni</td><td>104</td><td>Amber Bell</td><td>Bowler</td><td>1</td><td>190</td><td>5</td><td>Tie</td><td>Eden Gardens</td><td>Kolkata</td><td>66000</td><td>106</td><td>44</td><td>1</td><td>50</td><td>2025-04-05</td><td>part-00000-tid-7698845833304966985-f2eb1a1e-3b57-43f4-b7ed-123aed0374ba-716-1-c000.snappy.parquet</td></tr><tr><td>218</td><td>304</td><td>2</td><td>Chennai Super Kings</td><td>M. A. Chidambaram Stadium</td><td>MS Dhoni</td><td>104</td><td>Amber Bell</td><td>Bowler</td><td>1</td><td>190</td><td>5</td><td>Tie</td><td>Eden Gardens</td><td>Kolkata</td><td>66000</td><td>104</td><td>14</td><td>3</td><td>50</td><td>2025-04-05</td><td>part-00000-tid-7698845833304966985-f2eb1a1e-3b57-43f4-b7ed-123aed0374ba-716-1-c000.snappy.parquet</td></tr><tr><td>202</td><td>304</td><td>1</td><td>Mumbai Indians</td><td>Wankhede Stadium</td><td>Rohit Sharma</td><td>105</td><td>Shawn Bowers</td><td>Batsman</td><td>3</td><td>202</td><td>10</td><td>Loss</td><td>Eden Gardens</td><td>Kolkata</td><td>66000</td><td>107</td><td>68</td><td>2</td><td>50</td><td>2025-04-05</td><td>part-00000-tid-7698845833304966985-f2eb1a1e-3b57-43f4-b7ed-123aed0374ba-716-1-c000.snappy.parquet</td></tr><tr><td>219</td><td>303</td><td>2</td><td>Chennai Super Kings</td><td>M. A. Chidambaram Stadium</td><td>MS Dhoni</td><td>108</td><td>Jared Knox</td><td>Bowler</td><td>3</td><td>194</td><td>7</td><td>Loss</td><td>Arun Jaitley Stadium</td><td>Delhi</td><td>41820</td><td>110</td><td>75</td><td>3</td><td>50</td><td>2025-04-05</td><td>part-00000-tid-7698845833304966985-f2eb1a1e-3b57-43f4-b7ed-123aed0374ba-716-1-c000.snappy.parquet</td></tr><tr><td>218</td><td>304</td><td>2</td><td>Chennai Super Kings</td><td>M. A. Chidambaram Stadium</td><td>MS Dhoni</td><td>108</td><td>Jared Knox</td><td>Bowler</td><td>1</td><td>190</td><td>5</td><td>Tie</td><td>Eden Gardens</td><td>Kolkata</td><td>66000</td><td>114</td><td>81</td><td>1</td><td>50</td><td>2025-04-05</td><td>part-00000-tid-7698845833304966985-f2eb1a1e-3b57-43f4-b7ed-123aed0374ba-716-1-c000.snappy.parquet</td></tr><tr><td>218</td><td>304</td><td>2</td><td>Chennai Super Kings</td><td>M. A. Chidambaram Stadium</td><td>MS Dhoni</td><td>108</td><td>Jared Knox</td><td>Bowler</td><td>1</td><td>190</td><td>5</td><td>Tie</td><td>Eden Gardens</td><td>Kolkata</td><td>66000</td><td>106</td><td>44</td><td>1</td><td>50</td><td>2025-04-05</td><td>part-00000-tid-7698845833304966985-f2eb1a1e-3b57-43f4-b7ed-123aed0374ba-716-1-c000.snappy.parquet</td></tr><tr><td>218</td><td>304</td><td>2</td><td>Chennai Super Kings</td><td>M. A. Chidambaram Stadium</td><td>MS Dhoni</td><td>108</td><td>Jared Knox</td><td>Bowler</td><td>1</td><td>190</td><td>5</td><td>Tie</td><td>Eden Gardens</td><td>Kolkata</td><td>66000</td><td>104</td><td>14</td><td>3</td><td>50</td><td>2025-04-05</td><td>part-00000-tid-7698845833304966985-f2eb1a1e-3b57-43f4-b7ed-123aed0374ba-716-1-c000.snappy.parquet</td></tr><tr><td>219</td><td>303</td><td>2</td><td>Chennai Super Kings</td><td>M. A. Chidambaram Stadium</td><td>MS Dhoni</td><td>109</td><td>Kevin Conrad</td><td>Bowler</td><td>3</td><td>194</td><td>7</td><td>Loss</td><td>Arun Jaitley Stadium</td><td>Delhi</td><td>41820</td><td>110</td><td>75</td><td>3</td><td>50</td><td>2025-04-05</td><td>part-00000-tid-7698845833304966985-f2eb1a1e-3b57-43f4-b7ed-123aed0374ba-716-1-c000.snappy.parquet</td></tr><tr><td>218</td><td>304</td><td>2</td><td>Chennai Super Kings</td><td>M. A. Chidambaram Stadium</td><td>MS Dhoni</td><td>109</td><td>Kevin Conrad</td><td>Bowler</td><td>1</td><td>190</td><td>5</td><td>Tie</td><td>Eden Gardens</td><td>Kolkata</td><td>66000</td><td>114</td><td>81</td><td>1</td><td>50</td><td>2025-04-05</td><td>part-00000-tid-7698845833304966985-f2eb1a1e-3b57-43f4-b7ed-123aed0374ba-716-1-c000.snappy.parquet</td></tr><tr><td>218</td><td>304</td><td>2</td><td>Chennai Super Kings</td><td>M. A. Chidambaram Stadium</td><td>MS Dhoni</td><td>109</td><td>Kevin Conrad</td><td>Bowler</td><td>1</td><td>190</td><td>5</td><td>Tie</td><td>Eden Gardens</td><td>Kolkata</td><td>66000</td><td>106</td><td>44</td><td>1</td><td>50</td><td>2025-04-05</td><td>part-00000-tid-7698845833304966985-f2eb1a1e-3b57-43f4-b7ed-123aed0374ba-716-1-c000.snappy.parquet</td></tr><tr><td>218</td><td>304</td><td>2</td><td>Chennai Super Kings</td><td>M. A. Chidambaram Stadium</td><td>MS Dhoni</td><td>109</td><td>Kevin Conrad</td><td>Bowler</td><td>1</td><td>190</td><td>5</td><td>Tie</td><td>Eden Gardens</td><td>Kolkata</td><td>66000</td><td>104</td><td>14</td><td>3</td><td>50</td><td>2025-04-05</td><td>part-00000-tid-7698845833304966985-f2eb1a1e-3b57-43f4-b7ed-123aed0374ba-716-1-c000.snappy.parquet</td></tr><tr><td>216</td><td>303</td><td>4</td><td>Kolkata Knight Riders</td><td>Eden Gardens</td><td>Shreyas Iyer</td><td>110</td><td>Alan Padilla</td><td>All-rounder</td><td>1</td><td>139</td><td>8</td><td>Win</td><td>Arun Jaitley Stadium</td><td>Delhi</td><td>41820</td><td>120</td><td>75</td><td>0</td><td>50</td><td>2025-04-05</td><td>part-00000-tid-7698845833304966985-f2eb1a1e-3b57-43f4-b7ed-123aed0374ba-716-1-c000.snappy.parquet</td></tr><tr><td>209</td><td>301</td><td>4</td><td>Kolkata Knight Riders</td><td>Eden Gardens</td><td>Shreyas Iyer</td><td>110</td><td>Alan Padilla</td><td>All-rounder</td><td>1</td><td>201</td><td>5</td><td>Tie</td><td>Wankhede Stadium</td><td>Mumbai</td><td>33108</td><td>105</td><td>5</td><td>1</td><td>50</td><td>2025-04-05</td><td>part-00000-tid-7698845833304966985-f2eb1a1e-3b57-43f4-b7ed-123aed0374ba-716-1-c000.snappy.parquet</td></tr><tr><td>205</td><td>304</td><td>4</td><td>Kolkata Knight Riders</td><td>Eden Gardens</td><td>Shreyas Iyer</td><td>110</td><td>Alan Padilla</td><td>All-rounder</td><td>3</td><td>123</td><td>8</td><td>Tie</td><td>Eden Gardens</td><td>Kolkata</td><td>66000</td><td>115</td><td>85</td><td>0</td><td>50</td><td>2025-04-05</td><td>part-00000-tid-7698845833304966985-f2eb1a1e-3b57-43f4-b7ed-123aed0374ba-716-1-c000.snappy.parquet</td></tr><tr><td>219</td><td>303</td><td>2</td><td>Chennai Super Kings</td><td>M. A. Chidambaram Stadium</td><td>MS Dhoni</td><td>114</td><td>Joshua Baird</td><td>Bowler</td><td>3</td><td>194</td><td>7</td><td>Loss</td><td>Arun Jaitley Stadium</td><td>Delhi</td><td>41820</td><td>110</td><td>75</td><td>3</td><td>50</td><td>2025-04-05</td><td>part-00000-tid-7698845833304966985-f2eb1a1e-3b57-43f4-b7ed-123aed0374ba-716-1-c000.snappy.parquet</td></tr><tr><td>218</td><td>304</td><td>2</td><td>Chennai Super Kings</td><td>M. A. Chidambaram Stadium</td><td>MS Dhoni</td><td>114</td><td>Joshua Baird</td><td>Bowler</td><td>1</td><td>190</td><td>5</td><td>Tie</td><td>Eden Gardens</td><td>Kolkata</td><td>66000</td><td>114</td><td>81</td><td>1</td><td>50</td><td>2025-04-05</td><td>part-00000-tid-7698845833304966985-f2eb1a1e-3b57-43f4-b7ed-123aed0374ba-716-1-c000.snappy.parquet</td></tr><tr><td>218</td><td>304</td><td>2</td><td>Chennai Super Kings</td><td>M. A. Chidambaram Stadium</td><td>MS Dhoni</td><td>114</td><td>Joshua Baird</td><td>Bowler</td><td>1</td><td>190</td><td>5</td><td>Tie</td><td>Eden Gardens</td><td>Kolkata</td><td>66000</td><td>106</td><td>44</td><td>1</td><td>50</td><td>2025-04-05</td><td>part-00000-tid-7698845833304966985-f2eb1a1e-3b57-43f4-b7ed-123aed0374ba-716-1-c000.snappy.parquet</td></tr><tr><td>218</td><td>304</td><td>2</td><td>Chennai Super Kings</td><td>M. A. Chidambaram Stadium</td><td>MS Dhoni</td><td>114</td><td>Joshua Baird</td><td>Bowler</td><td>1</td><td>190</td><td>5</td><td>Tie</td><td>Eden Gardens</td><td>Kolkata</td><td>66000</td><td>104</td><td>14</td><td>3</td><td>50</td><td>2025-04-05</td><td>part-00000-tid-7698845833304966985-f2eb1a1e-3b57-43f4-b7ed-123aed0374ba-716-1-c000.snappy.parquet</td></tr><tr><td>216</td><td>303</td><td>4</td><td>Kolkata Knight Riders</td><td>Eden Gardens</td><td>Shreyas Iyer</td><td>115</td><td>Breanna Jackson</td><td>All-rounder</td><td>1</td><td>139</td><td>8</td><td>Win</td><td>Arun Jaitley Stadium</td><td>Delhi</td><td>41820</td><td>120</td><td>75</td><td>0</td><td>50</td><td>2025-04-05</td><td>part-00000-tid-7698845833304966985-f2eb1a1e-3b57-43f4-b7ed-123aed0374ba-716-1-c000.snappy.parquet</td></tr><tr><td>209</td><td>301</td><td>4</td><td>Kolkata Knight Riders</td><td>Eden Gardens</td><td>Shreyas Iyer</td><td>115</td><td>Breanna Jackson</td><td>All-rounder</td><td>1</td><td>201</td><td>5</td><td>Tie</td><td>Wankhede Stadium</td><td>Mumbai</td><td>33108</td><td>105</td><td>5</td><td>1</td><td>50</td><td>2025-04-05</td><td>part-00000-tid-7698845833304966985-f2eb1a1e-3b57-43f4-b7ed-123aed0374ba-716-1-c000.snappy.parquet</td></tr><tr><td>205</td><td>304</td><td>4</td><td>Kolkata Knight Riders</td><td>Eden Gardens</td><td>Shreyas Iyer</td><td>115</td><td>Breanna Jackson</td><td>All-rounder</td><td>3</td><td>123</td><td>8</td><td>Tie</td><td>Eden Gardens</td><td>Kolkata</td><td>66000</td><td>115</td><td>85</td><td>0</td><td>50</td><td>2025-04-05</td><td>part-00000-tid-7698845833304966985-f2eb1a1e-3b57-43f4-b7ed-123aed0374ba-716-1-c000.snappy.parquet</td></tr><tr><td>202</td><td>304</td><td>1</td><td>Mumbai Indians</td><td>Wankhede Stadium</td><td>Rohit Sharma</td><td>116</td><td>Bruce Morales</td><td>All-rounder</td><td>3</td><td>202</td><td>10</td><td>Loss</td><td>Eden Gardens</td><td>Kolkata</td><td>66000</td><td>107</td><td>68</td><td>2</td><td>50</td><td>2025-04-05</td><td>part-00000-tid-7698845833304966985-f2eb1a1e-3b57-43f4-b7ed-123aed0374ba-716-1-c000.snappy.parquet</td></tr><tr><td>202</td><td>304</td><td>1</td><td>Mumbai Indians</td><td>Wankhede Stadium</td><td>Rohit Sharma</td><td>120</td><td>Justin White</td><td>Batsman</td><td>3</td><td>202</td><td>10</td><td>Loss</td><td>Eden Gardens</td><td>Kolkata</td><td>66000</td><td>107</td><td>68</td><td>2</td><td>50</td><td>2025-04-05</td><td>part-00000-tid-7698845833304966985-f2eb1a1e-3b57-43f4-b7ed-123aed0374ba-716-1-c000.snappy.parquet</td></tr></tbody></table></div>"
      ]
     },
     "metadata": {
      "application/vnd.databricks.v1+output": {
       "addedWidgets": {},
       "aggData": [],
       "aggError": "",
       "aggOverflow": false,
       "aggSchema": [],
       "aggSeriesLimitReached": false,
       "aggType": "",
       "arguments": {},
       "columnCustomDisplayInfos": {},
       "data": [
        [
         202,
         304,
         1,
         "Mumbai Indians",
         "Wankhede Stadium",
         "Rohit Sharma",
         101,
         "Thomas Mendez",
         "All-rounder",
         3,
         202,
         10,
         "Loss",
         "Eden Gardens",
         "Kolkata",
         66000,
         107,
         68,
         2,
         50,
         "2025-04-05",
         "part-00000-tid-7698845833304966985-f2eb1a1e-3b57-43f4-b7ed-123aed0374ba-716-1-c000.snappy.parquet"
        ],
        [
         219,
         303,
         2,
         "Chennai Super Kings",
         "M. A. Chidambaram Stadium",
         "MS Dhoni",
         104,
         "Amber Bell",
         "Bowler",
         3,
         194,
         7,
         "Loss",
         "Arun Jaitley Stadium",
         "Delhi",
         41820,
         110,
         75,
         3,
         50,
         "2025-04-05",
         "part-00000-tid-7698845833304966985-f2eb1a1e-3b57-43f4-b7ed-123aed0374ba-716-1-c000.snappy.parquet"
        ],
        [
         218,
         304,
         2,
         "Chennai Super Kings",
         "M. A. Chidambaram Stadium",
         "MS Dhoni",
         104,
         "Amber Bell",
         "Bowler",
         1,
         190,
         5,
         "Tie",
         "Eden Gardens",
         "Kolkata",
         66000,
         114,
         81,
         1,
         50,
         "2025-04-05",
         "part-00000-tid-7698845833304966985-f2eb1a1e-3b57-43f4-b7ed-123aed0374ba-716-1-c000.snappy.parquet"
        ],
        [
         218,
         304,
         2,
         "Chennai Super Kings",
         "M. A. Chidambaram Stadium",
         "MS Dhoni",
         104,
         "Amber Bell",
         "Bowler",
         1,
         190,
         5,
         "Tie",
         "Eden Gardens",
         "Kolkata",
         66000,
         106,
         44,
         1,
         50,
         "2025-04-05",
         "part-00000-tid-7698845833304966985-f2eb1a1e-3b57-43f4-b7ed-123aed0374ba-716-1-c000.snappy.parquet"
        ],
        [
         218,
         304,
         2,
         "Chennai Super Kings",
         "M. A. Chidambaram Stadium",
         "MS Dhoni",
         104,
         "Amber Bell",
         "Bowler",
         1,
         190,
         5,
         "Tie",
         "Eden Gardens",
         "Kolkata",
         66000,
         104,
         14,
         3,
         50,
         "2025-04-05",
         "part-00000-tid-7698845833304966985-f2eb1a1e-3b57-43f4-b7ed-123aed0374ba-716-1-c000.snappy.parquet"
        ],
        [
         202,
         304,
         1,
         "Mumbai Indians",
         "Wankhede Stadium",
         "Rohit Sharma",
         105,
         "Shawn Bowers",
         "Batsman",
         3,
         202,
         10,
         "Loss",
         "Eden Gardens",
         "Kolkata",
         66000,
         107,
         68,
         2,
         50,
         "2025-04-05",
         "part-00000-tid-7698845833304966985-f2eb1a1e-3b57-43f4-b7ed-123aed0374ba-716-1-c000.snappy.parquet"
        ],
        [
         219,
         303,
         2,
         "Chennai Super Kings",
         "M. A. Chidambaram Stadium",
         "MS Dhoni",
         108,
         "Jared Knox",
         "Bowler",
         3,
         194,
         7,
         "Loss",
         "Arun Jaitley Stadium",
         "Delhi",
         41820,
         110,
         75,
         3,
         50,
         "2025-04-05",
         "part-00000-tid-7698845833304966985-f2eb1a1e-3b57-43f4-b7ed-123aed0374ba-716-1-c000.snappy.parquet"
        ],
        [
         218,
         304,
         2,
         "Chennai Super Kings",
         "M. A. Chidambaram Stadium",
         "MS Dhoni",
         108,
         "Jared Knox",
         "Bowler",
         1,
         190,
         5,
         "Tie",
         "Eden Gardens",
         "Kolkata",
         66000,
         114,
         81,
         1,
         50,
         "2025-04-05",
         "part-00000-tid-7698845833304966985-f2eb1a1e-3b57-43f4-b7ed-123aed0374ba-716-1-c000.snappy.parquet"
        ],
        [
         218,
         304,
         2,
         "Chennai Super Kings",
         "M. A. Chidambaram Stadium",
         "MS Dhoni",
         108,
         "Jared Knox",
         "Bowler",
         1,
         190,
         5,
         "Tie",
         "Eden Gardens",
         "Kolkata",
         66000,
         106,
         44,
         1,
         50,
         "2025-04-05",
         "part-00000-tid-7698845833304966985-f2eb1a1e-3b57-43f4-b7ed-123aed0374ba-716-1-c000.snappy.parquet"
        ],
        [
         218,
         304,
         2,
         "Chennai Super Kings",
         "M. A. Chidambaram Stadium",
         "MS Dhoni",
         108,
         "Jared Knox",
         "Bowler",
         1,
         190,
         5,
         "Tie",
         "Eden Gardens",
         "Kolkata",
         66000,
         104,
         14,
         3,
         50,
         "2025-04-05",
         "part-00000-tid-7698845833304966985-f2eb1a1e-3b57-43f4-b7ed-123aed0374ba-716-1-c000.snappy.parquet"
        ],
        [
         219,
         303,
         2,
         "Chennai Super Kings",
         "M. A. Chidambaram Stadium",
         "MS Dhoni",
         109,
         "Kevin Conrad",
         "Bowler",
         3,
         194,
         7,
         "Loss",
         "Arun Jaitley Stadium",
         "Delhi",
         41820,
         110,
         75,
         3,
         50,
         "2025-04-05",
         "part-00000-tid-7698845833304966985-f2eb1a1e-3b57-43f4-b7ed-123aed0374ba-716-1-c000.snappy.parquet"
        ],
        [
         218,
         304,
         2,
         "Chennai Super Kings",
         "M. A. Chidambaram Stadium",
         "MS Dhoni",
         109,
         "Kevin Conrad",
         "Bowler",
         1,
         190,
         5,
         "Tie",
         "Eden Gardens",
         "Kolkata",
         66000,
         114,
         81,
         1,
         50,
         "2025-04-05",
         "part-00000-tid-7698845833304966985-f2eb1a1e-3b57-43f4-b7ed-123aed0374ba-716-1-c000.snappy.parquet"
        ],
        [
         218,
         304,
         2,
         "Chennai Super Kings",
         "M. A. Chidambaram Stadium",
         "MS Dhoni",
         109,
         "Kevin Conrad",
         "Bowler",
         1,
         190,
         5,
         "Tie",
         "Eden Gardens",
         "Kolkata",
         66000,
         106,
         44,
         1,
         50,
         "2025-04-05",
         "part-00000-tid-7698845833304966985-f2eb1a1e-3b57-43f4-b7ed-123aed0374ba-716-1-c000.snappy.parquet"
        ],
        [
         218,
         304,
         2,
         "Chennai Super Kings",
         "M. A. Chidambaram Stadium",
         "MS Dhoni",
         109,
         "Kevin Conrad",
         "Bowler",
         1,
         190,
         5,
         "Tie",
         "Eden Gardens",
         "Kolkata",
         66000,
         104,
         14,
         3,
         50,
         "2025-04-05",
         "part-00000-tid-7698845833304966985-f2eb1a1e-3b57-43f4-b7ed-123aed0374ba-716-1-c000.snappy.parquet"
        ],
        [
         216,
         303,
         4,
         "Kolkata Knight Riders",
         "Eden Gardens",
         "Shreyas Iyer",
         110,
         "Alan Padilla",
         "All-rounder",
         1,
         139,
         8,
         "Win",
         "Arun Jaitley Stadium",
         "Delhi",
         41820,
         120,
         75,
         0,
         50,
         "2025-04-05",
         "part-00000-tid-7698845833304966985-f2eb1a1e-3b57-43f4-b7ed-123aed0374ba-716-1-c000.snappy.parquet"
        ],
        [
         209,
         301,
         4,
         "Kolkata Knight Riders",
         "Eden Gardens",
         "Shreyas Iyer",
         110,
         "Alan Padilla",
         "All-rounder",
         1,
         201,
         5,
         "Tie",
         "Wankhede Stadium",
         "Mumbai",
         33108,
         105,
         5,
         1,
         50,
         "2025-04-05",
         "part-00000-tid-7698845833304966985-f2eb1a1e-3b57-43f4-b7ed-123aed0374ba-716-1-c000.snappy.parquet"
        ],
        [
         205,
         304,
         4,
         "Kolkata Knight Riders",
         "Eden Gardens",
         "Shreyas Iyer",
         110,
         "Alan Padilla",
         "All-rounder",
         3,
         123,
         8,
         "Tie",
         "Eden Gardens",
         "Kolkata",
         66000,
         115,
         85,
         0,
         50,
         "2025-04-05",
         "part-00000-tid-7698845833304966985-f2eb1a1e-3b57-43f4-b7ed-123aed0374ba-716-1-c000.snappy.parquet"
        ],
        [
         219,
         303,
         2,
         "Chennai Super Kings",
         "M. A. Chidambaram Stadium",
         "MS Dhoni",
         114,
         "Joshua Baird",
         "Bowler",
         3,
         194,
         7,
         "Loss",
         "Arun Jaitley Stadium",
         "Delhi",
         41820,
         110,
         75,
         3,
         50,
         "2025-04-05",
         "part-00000-tid-7698845833304966985-f2eb1a1e-3b57-43f4-b7ed-123aed0374ba-716-1-c000.snappy.parquet"
        ],
        [
         218,
         304,
         2,
         "Chennai Super Kings",
         "M. A. Chidambaram Stadium",
         "MS Dhoni",
         114,
         "Joshua Baird",
         "Bowler",
         1,
         190,
         5,
         "Tie",
         "Eden Gardens",
         "Kolkata",
         66000,
         114,
         81,
         1,
         50,
         "2025-04-05",
         "part-00000-tid-7698845833304966985-f2eb1a1e-3b57-43f4-b7ed-123aed0374ba-716-1-c000.snappy.parquet"
        ],
        [
         218,
         304,
         2,
         "Chennai Super Kings",
         "M. A. Chidambaram Stadium",
         "MS Dhoni",
         114,
         "Joshua Baird",
         "Bowler",
         1,
         190,
         5,
         "Tie",
         "Eden Gardens",
         "Kolkata",
         66000,
         106,
         44,
         1,
         50,
         "2025-04-05",
         "part-00000-tid-7698845833304966985-f2eb1a1e-3b57-43f4-b7ed-123aed0374ba-716-1-c000.snappy.parquet"
        ],
        [
         218,
         304,
         2,
         "Chennai Super Kings",
         "M. A. Chidambaram Stadium",
         "MS Dhoni",
         114,
         "Joshua Baird",
         "Bowler",
         1,
         190,
         5,
         "Tie",
         "Eden Gardens",
         "Kolkata",
         66000,
         104,
         14,
         3,
         50,
         "2025-04-05",
         "part-00000-tid-7698845833304966985-f2eb1a1e-3b57-43f4-b7ed-123aed0374ba-716-1-c000.snappy.parquet"
        ],
        [
         216,
         303,
         4,
         "Kolkata Knight Riders",
         "Eden Gardens",
         "Shreyas Iyer",
         115,
         "Breanna Jackson",
         "All-rounder",
         1,
         139,
         8,
         "Win",
         "Arun Jaitley Stadium",
         "Delhi",
         41820,
         120,
         75,
         0,
         50,
         "2025-04-05",
         "part-00000-tid-7698845833304966985-f2eb1a1e-3b57-43f4-b7ed-123aed0374ba-716-1-c000.snappy.parquet"
        ],
        [
         209,
         301,
         4,
         "Kolkata Knight Riders",
         "Eden Gardens",
         "Shreyas Iyer",
         115,
         "Breanna Jackson",
         "All-rounder",
         1,
         201,
         5,
         "Tie",
         "Wankhede Stadium",
         "Mumbai",
         33108,
         105,
         5,
         1,
         50,
         "2025-04-05",
         "part-00000-tid-7698845833304966985-f2eb1a1e-3b57-43f4-b7ed-123aed0374ba-716-1-c000.snappy.parquet"
        ],
        [
         205,
         304,
         4,
         "Kolkata Knight Riders",
         "Eden Gardens",
         "Shreyas Iyer",
         115,
         "Breanna Jackson",
         "All-rounder",
         3,
         123,
         8,
         "Tie",
         "Eden Gardens",
         "Kolkata",
         66000,
         115,
         85,
         0,
         50,
         "2025-04-05",
         "part-00000-tid-7698845833304966985-f2eb1a1e-3b57-43f4-b7ed-123aed0374ba-716-1-c000.snappy.parquet"
        ],
        [
         202,
         304,
         1,
         "Mumbai Indians",
         "Wankhede Stadium",
         "Rohit Sharma",
         116,
         "Bruce Morales",
         "All-rounder",
         3,
         202,
         10,
         "Loss",
         "Eden Gardens",
         "Kolkata",
         66000,
         107,
         68,
         2,
         50,
         "2025-04-05",
         "part-00000-tid-7698845833304966985-f2eb1a1e-3b57-43f4-b7ed-123aed0374ba-716-1-c000.snappy.parquet"
        ],
        [
         202,
         304,
         1,
         "Mumbai Indians",
         "Wankhede Stadium",
         "Rohit Sharma",
         120,
         "Justin White",
         "Batsman",
         3,
         202,
         10,
         "Loss",
         "Eden Gardens",
         "Kolkata",
         66000,
         107,
         68,
         2,
         50,
         "2025-04-05",
         "part-00000-tid-7698845833304966985-f2eb1a1e-3b57-43f4-b7ed-123aed0374ba-716-1-c000.snappy.parquet"
        ]
       ],
       "datasetInfos": [],
       "dbfsResultPath": null,
       "isJsonSchema": true,
       "metadata": {},
       "overflow": false,
       "plotOptions": {
        "customPlotOptions": {},
        "displayType": "table",
        "pivotAggregation": null,
        "pivotColumns": null,
        "xColumns": null,
        "yColumns": null
       },
       "removedWidgets": [],
       "schema": [
        {
         "metadata": "{}",
         "name": "match_id",
         "type": "\"integer\""
        },
        {
         "metadata": "{}",
         "name": "stadium_id",
         "type": "\"integer\""
        },
        {
         "metadata": "{}",
         "name": "team_id",
         "type": "\"integer\""
        },
        {
         "metadata": "{}",
         "name": "team_name",
         "type": "\"string\""
        },
        {
         "metadata": "{}",
         "name": "home_ground",
         "type": "\"string\""
        },
        {
         "metadata": "{}",
         "name": "captain",
         "type": "\"string\""
        },
        {
         "metadata": "{}",
         "name": "player_id",
         "type": "\"integer\""
        },
        {
         "metadata": "{}",
         "name": "player_name",
         "type": "\"string\""
        },
        {
         "metadata": "{}",
         "name": "player_role",
         "type": "\"string\""
        },
        {
         "metadata": "{}",
         "name": "opponent_team_id",
         "type": "\"integer\""
        },
        {
         "metadata": "{}",
         "name": "runs_scored",
         "type": "\"integer\""
        },
        {
         "metadata": "{}",
         "name": "wickets_taken",
         "type": "\"integer\""
        },
        {
         "metadata": "{}",
         "name": "match_result",
         "type": "\"string\""
        },
        {
         "metadata": "{}",
         "name": "stadium_name",
         "type": "\"string\""
        },
        {
         "metadata": "{}",
         "name": "city",
         "type": "\"string\""
        },
        {
         "metadata": "{}",
         "name": "capacity",
         "type": "\"integer\""
        },
        {
         "metadata": "{}",
         "name": "player_id",
         "type": "\"integer\""
        },
        {
         "metadata": "{}",
         "name": "runs_scored_match",
         "type": "\"integer\""
        },
        {
         "metadata": "{}",
         "name": "wickets_taken_match",
         "type": "\"integer\""
        },
        {
         "metadata": "{}",
         "name": "ball_taken",
         "type": "\"integer\""
        },
        {
         "metadata": "{}",
         "name": "ingestion_date",
         "type": "\"date\""
        },
        {
         "metadata": "{}",
         "name": "source_file",
         "type": "\"string\""
        }
       ],
       "type": "table"
      }
     },
     "output_type": "display_data"
    }
   ],
   "source": [
    "df_final_silver = df_team_player_match2.join(df_player_perf_silver, \"match_id\", \"inner\")\n",
    "df_final_silver.display(4)"
   ]
  },
  {
   "cell_type": "markdown",
   "metadata": {
    "application/vnd.databricks.v1+cell": {
     "cellMetadata": {
      "byteLimit": 2048000,
      "rowLimit": 10000
     },
     "inputWidgets": {},
     "nuid": "b6795951-92fe-4f0c-80cc-9f100a172154",
     "showTitle": false,
     "tableResultSettingsMap": {},
     "title": ""
    }
   },
   "source": [
    "**Verify the Final DataFrame**"
   ]
  },
  {
   "cell_type": "code",
   "execution_count": 0,
   "metadata": {
    "application/vnd.databricks.v1+cell": {
     "cellMetadata": {
      "byteLimit": 2048000,
      "rowLimit": 10000
     },
     "inputWidgets": {},
     "nuid": "0932a35a-1648-4321-bc78-1cccad39d58e",
     "showTitle": false,
     "tableResultSettingsMap": {},
     "title": ""
    }
   },
   "outputs": [
    {
     "name": "stdout",
     "output_type": "stream",
     "text": [
      "root\n",
      " |-- match_id: integer (nullable = true)\n",
      " |-- stadium_id: integer (nullable = true)\n",
      " |-- team_id: integer (nullable = true)\n",
      " |-- team_name: string (nullable = true)\n",
      " |-- home_ground: string (nullable = true)\n",
      " |-- captain: string (nullable = true)\n",
      " |-- player_id: integer (nullable = true)\n",
      " |-- player_name: string (nullable = true)\n",
      " |-- player_role: string (nullable = true)\n",
      " |-- opponent_team_id: integer (nullable = true)\n",
      " |-- runs_scored: integer (nullable = true)\n",
      " |-- wickets_taken: integer (nullable = true)\n",
      " |-- match_result: string (nullable = true)\n",
      " |-- stadium_name: string (nullable = true)\n",
      " |-- city: string (nullable = true)\n",
      " |-- capacity: integer (nullable = true)\n",
      " |-- player_id: integer (nullable = true)\n",
      " |-- runs_scored_match: integer (nullable = true)\n",
      " |-- wickets_taken_match: integer (nullable = true)\n",
      " |-- ball_taken: integer (nullable = true)\n",
      " |-- ingestion_date: date (nullable = false)\n",
      " |-- source_file: string (nullable = false)\n",
      "\n"
     ]
    }
   ],
   "source": [
    "df_final_silver.printSchema()\n"
   ]
  },
  {
   "cell_type": "code",
   "execution_count": null,
   "metadata": {},
   "outputs": [],
   "source": [
    "df_final_silver.write.mode(\"overwrite\").parquet(\"abfss://silver@smriti1210.dfs.core.windows.net/final_silver.parquet\")\n"
   ]
  },
  {
   "cell_type": "markdown",
   "metadata": {
    "application/vnd.databricks.v1+cell": {
     "cellMetadata": {
      "byteLimit": 2048000,
      "rowLimit": 10000
     },
     "inputWidgets": {},
     "nuid": "6fd5000a-64eb-4fe8-a8c1-b3e756948442",
     "showTitle": false,
     "tableResultSettingsMap": {},
     "title": ""
    }
   },
   "source": [
    "Store Silver Layer Data as Parquet "
   ]
  },
  {
   "cell_type": "code",
   "execution_count": 0,
   "metadata": {
    "application/vnd.databricks.v1+cell": {
     "cellMetadata": {
      "byteLimit": 2048000,
      "rowLimit": 10000
     },
     "inputWidgets": {},
     "nuid": "bd94fb42-29f2-4e9b-9ba2-02282af95554",
     "showTitle": false,
     "tableResultSettingsMap": {},
     "title": ""
    }
   },
   "outputs": [
    {
     "data": {
      "text/plain": []
     },
     "metadata": {
      "application/vnd.databricks.v1+output": {
       "addedWidgets": {},
       "arguments": {},
       "datasetInfos": [],
       "jupyterProps": null,
       "metadata": {
        "errorSummary": "Command skipped"
       },
       "removedWidgets": [],
       "sqlProps": null,
       "stackFrames": [],
       "type": "baseError"
      }
     },
     "output_type": "display_data"
    }
   ],
   "source": [
    "df_final_silver.write.mode(\"overwrite\").parquet(\"abfss://silver@smriti1210.dfs.core.windows.net/final_silver.parquet\")\n"
   ]
  },
  {
   "cell_type": "markdown",
   "metadata": {
    "application/vnd.databricks.v1+cell": {
     "cellMetadata": {
      "byteLimit": 2048000,
      "rowLimit": 10000
     },
     "inputWidgets": {},
     "nuid": "af7937b0-8c03-4814-8773-8c54ee41b144",
     "showTitle": false,
     "tableResultSettingsMap": {},
     "title": ""
    }
   },
   "source": [
    " Store Silver Layer Data in SQL Server (SSMS)"
   ]
  },
  {
   "cell_type": "markdown",
   "metadata": {
    "application/vnd.databricks.v1+cell": {
     "cellMetadata": {
      "byteLimit": 2048000,
      "rowLimit": 10000
     },
     "inputWidgets": {},
     "nuid": "e6cc2a09-86ea-437d-bccb-1d20825e7a3d",
     "showTitle": false,
     "tableResultSettingsMap": {},
     "title": ""
    }
   },
   "source": [
    " _First, set up JDBC connection details:_"
   ]
  },
  {
   "cell_type": "code",
   "execution_count": 0,
   "metadata": {
    "application/vnd.databricks.v1+cell": {
     "cellMetadata": {
      "byteLimit": 2048000,
      "rowLimit": 10000
     },
     "inputWidgets": {},
     "nuid": "04c91bcf-8629-49c4-b3a1-df8f791979d8",
     "showTitle": false,
     "tableResultSettingsMap": {},
     "title": ""
    }
   },
   "outputs": [
    {
     "data": {
      "text/plain": []
     },
     "metadata": {
      "application/vnd.databricks.v1+output": {
       "addedWidgets": {},
       "arguments": {},
       "datasetInfos": [],
       "jupyterProps": null,
       "metadata": {
        "errorSummary": "Command skipped"
       },
       "removedWidgets": [],
       "sqlProps": null,
       "stackFrames": [],
       "type": "baseError"
      }
     },
     "output_type": "display_data"
    }
   ],
   "source": [
    "jdbc_url = \"jdbc:sqlserver://skserver7560.database.windows.net:1433;databaseName=DB1210;encrypt=true;trustServerCertificate=false;hostNameInCertificate=*.database.windows.net;loginTimeout=30;\"\n",
    "\n",
    "\n",
    "connection_properties = {\n",
    "    \"user\": \"Adminsk_1210\",\n",
    "    \"password\": \"asus@123\",\n",
    "    \"driver\": \"com.microsoft.sqlserver.jdbc.SQLServerDriver\"\n",
    "}\n"
   ]
  },
  {
   "cell_type": "markdown",
   "metadata": {
    "application/vnd.databricks.v1+cell": {
     "cellMetadata": {
      "byteLimit": 2048000,
      "rowLimit": 10000
     },
     "inputWidgets": {},
     "nuid": "21344dd1-7e6c-4f7b-9d7a-32974a76ead7",
     "showTitle": false,
     "tableResultSettingsMap": {},
     "title": ""
    }
   },
   "source": [
    "**write dataframe to sql server table / read final_silver from SQL Server into PySpark**"
   ]
  },
  {
   "cell_type": "code",
   "execution_count": 0,
   "metadata": {
    "application/vnd.databricks.v1+cell": {
     "cellMetadata": {
      "byteLimit": 2048000,
      "rowLimit": 10000
     },
     "inputWidgets": {},
     "nuid": "f4ff8b95-3e3a-4ac2-b0eb-efb0a34138f0",
     "showTitle": false,
     "tableResultSettingsMap": {},
     "title": ""
    }
   },
   "outputs": [
    {
     "data": {
      "text/plain": []
     },
     "metadata": {
      "application/vnd.databricks.v1+output": {
       "addedWidgets": {},
       "arguments": {},
       "datasetInfos": [],
       "jupyterProps": null,
       "metadata": {
        "errorSummary": "Command skipped"
       },
       "removedWidgets": [],
       "sqlProps": null,
       "stackFrames": [],
       "type": "baseError"
      }
     },
     "output_type": "display_data"
    }
   ],
   "source": [
    "df_final_silver.write \\\n",
    "    .format(\"jdbc\") \\\n",
    "    .option(\"url\", jdbc_url) \\\n",
    "    .option(\"dbtable\", \"dbo.final_silver\") \\\n",
    "    .option(\"user\", \"Adminsk_1210\") \\\n",
    "    .option(\"password\", \"asus@123\") \\\n",
    "    .option(\"driver\", \"com.microsoft.sqlserver.jdbc.SQLServerDriver\") \\\n",
    "    .mode(\"overwrite\") \\\n",
    "    .save()\n"
   ]
  },
  {
   "cell_type": "code",
   "execution_count": 0,
   "metadata": {
    "application/vnd.databricks.v1+cell": {
     "cellMetadata": {
      "byteLimit": 2048000,
      "rowLimit": 10000
     },
     "inputWidgets": {},
     "nuid": "40475b85-e67c-491f-8145-db76a7220965",
     "showTitle": false,
     "tableResultSettingsMap": {},
     "title": ""
    }
   },
   "outputs": [],
   "source": []
  }
 ],
 "metadata": {
  "application/vnd.databricks.v1+notebook": {
   "computePreferences": null,
   "dashboards": [],
   "environmentMetadata": {
    "base_environment": "",
    "environment_version": "2"
   },
   "inputWidgetPreferences": null,
   "language": "python",
   "notebookMetadata": {
    "mostRecentlyExecutedCommandWithImplicitDF": {
     "commandId": 8013422020587657,
     "dataframes": [
      "_sqldf"
     ]
    },
    "pythonIndentUnit": 4
   },
   "notebookName": "silver 2025-04-03 21:53:23",
   "widgets": {}
  },
  "language_info": {
   "name": "python"
  }
 },
 "nbformat": 4,
 "nbformat_minor": 0
}
