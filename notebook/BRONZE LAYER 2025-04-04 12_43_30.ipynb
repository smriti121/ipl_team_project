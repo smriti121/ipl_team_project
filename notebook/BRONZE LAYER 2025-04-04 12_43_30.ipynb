{
 "cells": [
  {
   "cell_type": "code",
   "execution_count": 0,
   "metadata": {
    "application/vnd.databricks.v1+cell": {
     "cellMetadata": {
      "byteLimit": 2048000,
      "rowLimit": 10000
     },
     "inputWidgets": {},
     "nuid": "4bb0565c-a507-4aa3-bc7b-2a7065b8c49f",
     "showTitle": false,
     "tableResultSettingsMap": {},
     "title": ""
    }
   },
   "outputs": [],
   "source": [
    "import pandas as pd\n",
    "import logging"
   ]
  },
  {
   "cell_type": "code",
   "execution_count": 0,
   "metadata": {
    "application/vnd.databricks.v1+cell": {
     "cellMetadata": {
      "byteLimit": 2048000,
      "rowLimit": 10000
     },
     "inputWidgets": {},
     "nuid": "3b07e65c-0cfa-4f38-9d97-8b9ea2a5d665",
     "showTitle": false,
     "tableResultSettingsMap": {},
     "title": ""
    }
   },
   "outputs": [],
   "source": [
    "spark.conf.set(\"fs.azure.account.key.newstorage1210.dfs.core.windows.net\", \"enGa2ZTWqyaV2YzBFOHzze4g3ursYX05TXmqc/HhR9QlDfdrXCZinJhD1uLdRMorYVPeOyyPpV1x+AStdnLeiw==\")"
   ]
  },
  {
   "cell_type": "code",
   "execution_count": 0,
   "metadata": {
    "application/vnd.databricks.v1+cell": {
     "cellMetadata": {
      "byteLimit": 2048000,
      "rowLimit": 10000
     },
     "inputWidgets": {},
     "nuid": "7f2c3d91-6f24-4f62-9a4e-6ce4fd992101",
     "showTitle": false,
     "tableResultSettingsMap": {},
     "title": ""
    }
   },
   "outputs": [],
   "source": [
    "bronze_log_path = \"abfss://bronze@smriti1210.dfs.core.windows.net/logs/\""
   ]
  },
  {
   "cell_type": "code",
   "execution_count": 0,
   "metadata": {
    "application/vnd.databricks.v1+cell": {
     "cellMetadata": {
      "byteLimit": 2048000,
      "rowLimit": 10000
     },
     "inputWidgets": {},
     "nuid": "c16ccdac-1cc1-42de-bb6a-4b11d3843ac3",
     "showTitle": false,
     "tableResultSettingsMap": {},
     "title": ""
    }
   },
   "outputs": [
    {
     "output_type": "execute_result",
     "data": {
      "text/plain": [
       "[FileInfo(path='abfss://raw@newstorage1210.dfs.core.windows.net/match_performance.csv', name='match_performance.csv', size=482, modificationTime=1743844032000),\n",
       " FileInfo(path='abfss://raw@newstorage1210.dfs.core.windows.net/match_stadium.csv', name='match_stadium.csv', size=180, modificationTime=1743844018000),\n",
       " FileInfo(path='abfss://raw@newstorage1210.dfs.core.windows.net/player_performance.csv', name='player_performance.csv', size=396, modificationTime=1743844003000),\n",
       " FileInfo(path='abfss://raw@newstorage1210.dfs.core.windows.net/player_team.csv', name='player_team.csv', size=602, modificationTime=1743844043000),\n",
       " FileInfo(path='abfss://raw@newstorage1210.dfs.core.windows.net/stadium.csv', name='stadium.csv', size=225, modificationTime=1743844071000),\n",
       " FileInfo(path='abfss://raw@newstorage1210.dfs.core.windows.net/team.csv', name='team.csv', size=281, modificationTime=1743844059000)]"
      ]
     },
     "execution_count": 57,
     "metadata": {},
     "output_type": "execute_result"
    }
   ],
   "source": [
    "dbutils.fs.ls(\"abfss://raw@newstorage1210.dfs.core.windows.net/\")"
   ]
  },
  {
   "cell_type": "code",
   "execution_count": 0,
   "metadata": {
    "application/vnd.databricks.v1+cell": {
     "cellMetadata": {
      "byteLimit": 2048000,
      "rowLimit": 10000
     },
     "inputWidgets": {},
     "nuid": "5cd97603-7198-401b-9152-73e7c52fec9a",
     "showTitle": false,
     "tableResultSettingsMap": {},
     "title": ""
    }
   },
   "outputs": [],
   "source": [
    "import datetime\n",
    "from pyspark.sql import SparkSession\n",
    "bronze_log_path = \"abfss://bronze@smriti1210.dfs.core.windows.net/logs/\"\n",
    "log_data = []\n",
    "current_time = datetime.datetime.now().strftime(\"%Y-%m-%d %H:%M:%S\")"
   ]
  },
  {
   "cell_type": "markdown",
   "metadata": {
    "application/vnd.databricks.v1+cell": {
     "cellMetadata": {
      "byteLimit": 2048000,
      "rowLimit": 10000
     },
     "inputWidgets": {},
     "nuid": "e9dc31f0-f1d5-403e-852c-3c99bdeaaea4",
     "showTitle": false,
     "tableResultSettingsMap": {},
     "title": ""
    }
   },
   "source": [
    "**Read CSV files from Bronze Layer**\n"
   ]
  },
  {
   "cell_type": "code",
   "execution_count": 0,
   "metadata": {
    "application/vnd.databricks.v1+cell": {
     "cellMetadata": {
      "byteLimit": 2048000,
      "rowLimit": 10000
     },
     "inputWidgets": {},
     "nuid": "246982ed-e280-42b7-99f0-e0077fa2409c",
     "showTitle": false,
     "tableResultSettingsMap": {},
     "title": ""
    }
   },
   "outputs": [
    {
     "output_type": "display_data",
     "data": {
      "text/html": [
       "<style scoped>\n",
       "  .table-result-container {\n",
       "    max-height: 300px;\n",
       "    overflow: auto;\n",
       "  }\n",
       "  table, th, td {\n",
       "    border: 1px solid black;\n",
       "    border-collapse: collapse;\n",
       "  }\n",
       "  th, td {\n",
       "    padding: 5px;\n",
       "  }\n",
       "  th {\n",
       "    text-align: left;\n",
       "  }\n",
       "</style><div class='table-result-container'><table class='table-result'><thead style='background-color: white'><tr><th>team_id</th><th>team_name</th><th>home_ground</th><th>captain</th></tr></thead><tbody><tr><td>1</td><td>Mumbai Indians</td><td>Wankhede Stadium</td><td>Rohit Sharma</td></tr><tr><td>2</td><td>Chennai Super Kings</td><td>M. A. Chidambaram Stadium</td><td>MS Dhoni</td></tr><tr><td>3</td><td>Delhi Capitals</td><td>null</td><td>Rishabh Pant</td></tr><tr><td>4</td><td>Kolkata Knight Riders</td><td>Eden Gardens</td><td>Shreyas Iyer</td></tr><tr><td>5</td><td>Sunrisers Hyderabad</td><td>Rajiv Gandhi Intl. Cricket Stadium</td><td>null</td></tr></tbody></table></div>"
      ]
     },
     "metadata": {
      "application/vnd.databricks.v1+output": {
       "addedWidgets": {},
       "aggData": [],
       "aggError": "",
       "aggOverflow": false,
       "aggSchema": [],
       "aggSeriesLimitReached": false,
       "aggType": "",
       "arguments": {},
       "columnCustomDisplayInfos": {},
       "data": [
        [
         1,
         "Mumbai Indians",
         "Wankhede Stadium",
         "Rohit Sharma"
        ],
        [
         2,
         "Chennai Super Kings",
         "M. A. Chidambaram Stadium",
         "MS Dhoni"
        ],
        [
         3,
         "Delhi Capitals",
         null,
         "Rishabh Pant"
        ],
        [
         4,
         "Kolkata Knight Riders",
         "Eden Gardens",
         "Shreyas Iyer"
        ],
        [
         5,
         "Sunrisers Hyderabad",
         "Rajiv Gandhi Intl. Cricket Stadium",
         null
        ]
       ],
       "datasetInfos": [],
       "dbfsResultPath": null,
       "isJsonSchema": true,
       "metadata": {},
       "overflow": false,
       "plotOptions": {
        "customPlotOptions": {},
        "displayType": "table",
        "pivotAggregation": null,
        "pivotColumns": null,
        "xColumns": null,
        "yColumns": null
       },
       "removedWidgets": [],
       "schema": [
        {
         "metadata": "{}",
         "name": "team_id",
         "type": "\"integer\""
        },
        {
         "metadata": "{}",
         "name": "team_name",
         "type": "\"string\""
        },
        {
         "metadata": "{}",
         "name": "home_ground",
         "type": "\"string\""
        },
        {
         "metadata": "{}",
         "name": "captain",
         "type": "\"string\""
        }
       ],
       "type": "table"
      }
     },
     "output_type": "display_data"
    }
   ],
   "source": [
    "try:\n",
    "   df_team=spark.read.csv('abfss://raw@newstorage1210.dfs.core.windows.net/team.csv', header=True, inferSchema=True)\n",
    "   df_team.display()\n",
    "   log_data.append([current_time, \"Success\"])\n",
    "except Exception as e:\n",
    "    log_data.append([current_time, \"Error\"])  \n",
    "\n"
   ]
  },
  {
   "cell_type": "code",
   "execution_count": 0,
   "metadata": {
    "application/vnd.databricks.v1+cell": {
     "cellMetadata": {
      "byteLimit": 2048000,
      "rowLimit": 10000
     },
     "inputWidgets": {},
     "nuid": "2dd56bd1-95a6-4372-9024-11c89ba8760f",
     "showTitle": false,
     "tableResultSettingsMap": {},
     "title": ""
    }
   },
   "outputs": [
    {
     "output_type": "display_data",
     "data": {
      "text/html": [
       "<style scoped>\n",
       "  .table-result-container {\n",
       "    max-height: 300px;\n",
       "    overflow: auto;\n",
       "  }\n",
       "  table, th, td {\n",
       "    border: 1px solid black;\n",
       "    border-collapse: collapse;\n",
       "  }\n",
       "  th, td {\n",
       "    padding: 5px;\n",
       "  }\n",
       "  th {\n",
       "    text-align: left;\n",
       "  }\n",
       "</style><div class='table-result-container'><table class='table-result'><thead style='background-color: white'><tr><th>match_id</th><th>team_id</th><th>opponent_team_id</th><th>runs_scored</th><th>wickets_taken</th><th>match_result</th></tr></thead><tbody><tr><td>201</td><td>4</td><td>1</td><td>213.0</td><td>7</td><td>Tie</td></tr><tr><td>202</td><td>1</td><td>3</td><td>202.0</td><td>10</td><td>Loss</td></tr><tr><td>203</td><td>2</td><td>3</td><td>238.0</td><td>8</td><td>Win</td></tr><tr><td>204</td><td>4</td><td>3</td><td>null</td><td>9</td><td>Loss</td></tr><tr><td>205</td><td>4</td><td>3</td><td>123.0</td><td>8</td><td>Tie</td></tr><tr><td>206</td><td>1</td><td>2</td><td>215.0</td><td>6</td><td>Loss</td></tr><tr><td>207</td><td>5</td><td>3</td><td>211.0</td><td>5</td><td>Win</td></tr><tr><td>208</td><td>3</td><td>5</td><td>171.0</td><td>6</td><td>Unknown</td></tr><tr><td>209</td><td>4</td><td>1</td><td>201.0</td><td>5</td><td>Tie</td></tr><tr><td>210</td><td>4</td><td>3</td><td>233.0</td><td>7</td><td>Win</td></tr><tr><td>211</td><td>5</td><td>1</td><td>144.0</td><td>10</td><td>Loss</td></tr><tr><td>212</td><td>1</td><td>5</td><td>227.0</td><td>6</td><td>Win</td></tr><tr><td>213</td><td>4</td><td>2</td><td>190.0</td><td>9</td><td>Loss</td></tr><tr><td>214</td><td>1</td><td>3</td><td>201.0</td><td>8</td><td>Win</td></tr><tr><td>215</td><td>1</td><td>3</td><td>242.0</td><td>8</td><td>Win</td></tr><tr><td>216</td><td>4</td><td>1</td><td>139.0</td><td>8</td><td>Win</td></tr><tr><td>217</td><td>5</td><td>4</td><td>238.0</td><td>6</td><td>Loss</td></tr><tr><td>218</td><td>2</td><td>1</td><td>190.0</td><td>5</td><td>Tie</td></tr><tr><td>219</td><td>2</td><td>3</td><td>194.0</td><td>7</td><td>Loss</td></tr><tr><td>220</td><td>3</td><td>1</td><td>130.0</td><td>9</td><td>Loss</td></tr></tbody></table></div>"
      ]
     },
     "metadata": {
      "application/vnd.databricks.v1+output": {
       "addedWidgets": {},
       "aggData": [],
       "aggError": "",
       "aggOverflow": false,
       "aggSchema": [],
       "aggSeriesLimitReached": false,
       "aggType": "",
       "arguments": {},
       "columnCustomDisplayInfos": {},
       "data": [
        [
         201,
         4,
         1,
         213.0,
         7,
         "Tie"
        ],
        [
         202,
         1,
         3,
         202.0,
         10,
         "Loss"
        ],
        [
         203,
         2,
         3,
         238.0,
         8,
         "Win"
        ],
        [
         204,
         4,
         3,
         null,
         9,
         "Loss"
        ],
        [
         205,
         4,
         3,
         123.0,
         8,
         "Tie"
        ],
        [
         206,
         1,
         2,
         215.0,
         6,
         "Loss"
        ],
        [
         207,
         5,
         3,
         211.0,
         5,
         "Win"
        ],
        [
         208,
         3,
         5,
         171.0,
         6,
         "Unknown"
        ],
        [
         209,
         4,
         1,
         201.0,
         5,
         "Tie"
        ],
        [
         210,
         4,
         3,
         233.0,
         7,
         "Win"
        ],
        [
         211,
         5,
         1,
         144.0,
         10,
         "Loss"
        ],
        [
         212,
         1,
         5,
         227.0,
         6,
         "Win"
        ],
        [
         213,
         4,
         2,
         190.0,
         9,
         "Loss"
        ],
        [
         214,
         1,
         3,
         201.0,
         8,
         "Win"
        ],
        [
         215,
         1,
         3,
         242.0,
         8,
         "Win"
        ],
        [
         216,
         4,
         1,
         139.0,
         8,
         "Win"
        ],
        [
         217,
         5,
         4,
         238.0,
         6,
         "Loss"
        ],
        [
         218,
         2,
         1,
         190.0,
         5,
         "Tie"
        ],
        [
         219,
         2,
         3,
         194.0,
         7,
         "Loss"
        ],
        [
         220,
         3,
         1,
         130.0,
         9,
         "Loss"
        ]
       ],
       "datasetInfos": [],
       "dbfsResultPath": null,
       "isJsonSchema": true,
       "metadata": {},
       "overflow": false,
       "plotOptions": {
        "customPlotOptions": {},
        "displayType": "table",
        "pivotAggregation": null,
        "pivotColumns": null,
        "xColumns": null,
        "yColumns": null
       },
       "removedWidgets": [],
       "schema": [
        {
         "metadata": "{}",
         "name": "match_id",
         "type": "\"integer\""
        },
        {
         "metadata": "{}",
         "name": "team_id",
         "type": "\"integer\""
        },
        {
         "metadata": "{}",
         "name": "opponent_team_id",
         "type": "\"integer\""
        },
        {
         "metadata": "{}",
         "name": "runs_scored",
         "type": "\"double\""
        },
        {
         "metadata": "{}",
         "name": "wickets_taken",
         "type": "\"integer\""
        },
        {
         "metadata": "{}",
         "name": "match_result",
         "type": "\"string\""
        }
       ],
       "type": "table"
      }
     },
     "output_type": "display_data"
    }
   ],
   "source": [
    "try:\n",
    "   df_match_perf=spark.read.csv('abfss://raw@newstorage1210.dfs.core.windows.net/match_performance.csv', header=True, inferSchema=True)\n",
    "   df_match_perf.display()\n",
    "   log_data.append([current_time, \"Success\"])\n",
    "except Exception as e:\n",
    "    log_data.append([current_time, \"Error\"])   "
   ]
  },
  {
   "cell_type": "code",
   "execution_count": 0,
   "metadata": {
    "application/vnd.databricks.v1+cell": {
     "cellMetadata": {
      "byteLimit": 2048000,
      "rowLimit": 10000
     },
     "inputWidgets": {},
     "nuid": "112d3b93-5c83-4687-a2e4-904e5854bde5",
     "showTitle": false,
     "tableResultSettingsMap": {},
     "title": ""
    }
   },
   "outputs": [
    {
     "output_type": "display_data",
     "data": {
      "text/html": [
       "<style scoped>\n",
       "  .table-result-container {\n",
       "    max-height: 300px;\n",
       "    overflow: auto;\n",
       "  }\n",
       "  table, th, td {\n",
       "    border: 1px solid black;\n",
       "    border-collapse: collapse;\n",
       "  }\n",
       "  th, td {\n",
       "    padding: 5px;\n",
       "  }\n",
       "  th {\n",
       "    text-align: left;\n",
       "  }\n",
       "</style><div class='table-result-container'><table class='table-result'><thead style='background-color: white'><tr><th>match_id</th><th>player_id</th><th>runs_scored</th><th>wickets_taken</th><th>ball_taken</th></tr></thead><tbody><tr><td>214</td><td>101</td><td>82</td><td>2</td><td>50</td></tr><tr><td>211</td><td>102</td><td>97</td><td>2</td><td>50</td></tr><tr><td>207</td><td>103</td><td>29</td><td>2</td><td>50</td></tr><tr><td>218</td><td>104</td><td>14</td><td>3</td><td>50</td></tr><tr><td>209</td><td>105</td><td>5</td><td>1</td><td>50</td></tr><tr><td>218</td><td>106</td><td>44</td><td>1</td><td>50</td></tr><tr><td>202</td><td>107</td><td>68</td><td>2</td><td>50</td></tr><tr><td>213</td><td>108</td><td>94</td><td>4</td><td>50</td></tr><tr><td>215</td><td>109</td><td>93</td><td>2</td><td>50</td></tr><tr><td>219</td><td>110</td><td>75</td><td>3</td><td>50</td></tr><tr><td>204</td><td>111</td><td>38</td><td>2</td><td>50</td></tr><tr><td>215</td><td>112</td><td>15</td><td>0</td><td>50</td></tr><tr><td>217</td><td>113</td><td>70</td><td>1</td><td>50</td></tr><tr><td>218</td><td>114</td><td>81</td><td>1</td><td>50</td></tr><tr><td>205</td><td>115</td><td>85</td><td>0</td><td>50</td></tr><tr><td>214</td><td>116</td><td>58</td><td>4</td><td>50</td></tr><tr><td>208</td><td>117</td><td>35</td><td>4</td><td>50</td></tr><tr><td>203</td><td>118</td><td>80</td><td>1</td><td>50</td></tr><tr><td>213</td><td>119</td><td>21</td><td>3</td><td>50</td></tr><tr><td>216</td><td>120</td><td>75</td><td>0</td><td>50</td></tr></tbody></table></div>"
      ]
     },
     "metadata": {
      "application/vnd.databricks.v1+output": {
       "addedWidgets": {},
       "aggData": [],
       "aggError": "",
       "aggOverflow": false,
       "aggSchema": [],
       "aggSeriesLimitReached": false,
       "aggType": "",
       "arguments": {},
       "columnCustomDisplayInfos": {},
       "data": [
        [
         214,
         101,
         82,
         2,
         50
        ],
        [
         211,
         102,
         97,
         2,
         50
        ],
        [
         207,
         103,
         29,
         2,
         50
        ],
        [
         218,
         104,
         14,
         3,
         50
        ],
        [
         209,
         105,
         5,
         1,
         50
        ],
        [
         218,
         106,
         44,
         1,
         50
        ],
        [
         202,
         107,
         68,
         2,
         50
        ],
        [
         213,
         108,
         94,
         4,
         50
        ],
        [
         215,
         109,
         93,
         2,
         50
        ],
        [
         219,
         110,
         75,
         3,
         50
        ],
        [
         204,
         111,
         38,
         2,
         50
        ],
        [
         215,
         112,
         15,
         0,
         50
        ],
        [
         217,
         113,
         70,
         1,
         50
        ],
        [
         218,
         114,
         81,
         1,
         50
        ],
        [
         205,
         115,
         85,
         0,
         50
        ],
        [
         214,
         116,
         58,
         4,
         50
        ],
        [
         208,
         117,
         35,
         4,
         50
        ],
        [
         203,
         118,
         80,
         1,
         50
        ],
        [
         213,
         119,
         21,
         3,
         50
        ],
        [
         216,
         120,
         75,
         0,
         50
        ]
       ],
       "datasetInfos": [],
       "dbfsResultPath": null,
       "isJsonSchema": true,
       "metadata": {},
       "overflow": false,
       "plotOptions": {
        "customPlotOptions": {},
        "displayType": "table",
        "pivotAggregation": null,
        "pivotColumns": null,
        "xColumns": null,
        "yColumns": null
       },
       "removedWidgets": [],
       "schema": [
        {
         "metadata": "{}",
         "name": "match_id",
         "type": "\"integer\""
        },
        {
         "metadata": "{}",
         "name": "player_id",
         "type": "\"integer\""
        },
        {
         "metadata": "{}",
         "name": "runs_scored",
         "type": "\"integer\""
        },
        {
         "metadata": "{}",
         "name": "wickets_taken",
         "type": "\"integer\""
        },
        {
         "metadata": "{}",
         "name": "ball_taken",
         "type": "\"integer\""
        }
       ],
       "type": "table"
      }
     },
     "output_type": "display_data"
    }
   ],
   "source": [
    "try:\n",
    "    df_player_perf=spark.read.csv('abfss://raw@newstorage1210.dfs.core.windows.net/player_performance.csv', header=True, inferSchema=True)\n",
    "    df_player_perf.display()\n",
    "    log_data.append([current_time, \"Success\"])\n",
    "except Exception as e:\n",
    "    log_data.append([current_time, \"Error\"])    "
   ]
  },
  {
   "cell_type": "code",
   "execution_count": 0,
   "metadata": {
    "application/vnd.databricks.v1+cell": {
     "cellMetadata": {
      "byteLimit": 2048000,
      "rowLimit": 10000
     },
     "inputWidgets": {},
     "nuid": "648011dc-54ca-4e22-a93e-8a6fdbbe273b",
     "showTitle": false,
     "tableResultSettingsMap": {},
     "title": ""
    }
   },
   "outputs": [
    {
     "output_type": "display_data",
     "data": {
      "text/html": [
       "<style scoped>\n",
       "  .table-result-container {\n",
       "    max-height: 300px;\n",
       "    overflow: auto;\n",
       "  }\n",
       "  table, th, td {\n",
       "    border: 1px solid black;\n",
       "    border-collapse: collapse;\n",
       "  }\n",
       "  th, td {\n",
       "    padding: 5px;\n",
       "  }\n",
       "  th {\n",
       "    text-align: left;\n",
       "  }\n",
       "</style><div class='table-result-container'><table class='table-result'><thead style='background-color: white'><tr><th>stadium_id</th><th>stadium_name</th><th>city</th><th>capacity</th></tr></thead><tbody><tr><td>301</td><td>Wankhede Stadium</td><td>Mumbai</td><td>33108</td></tr><tr><td>302</td><td>M. A. Chidambaram Stadium</td><td>Chennai</td><td>null</td></tr><tr><td>303</td><td>Arun Jaitley Stadium</td><td>Delhi</td><td>41820</td></tr><tr><td>304</td><td>Eden Gardens</td><td>Kolkata</td><td>66000</td></tr><tr><td>305</td><td>Rajiv Gandhi Intl. Cricket Stadium</td><td>null</td><td>55000</td></tr></tbody></table></div>"
      ]
     },
     "metadata": {
      "application/vnd.databricks.v1+output": {
       "addedWidgets": {},
       "aggData": [],
       "aggError": "",
       "aggOverflow": false,
       "aggSchema": [],
       "aggSeriesLimitReached": false,
       "aggType": "",
       "arguments": {},
       "columnCustomDisplayInfos": {},
       "data": [
        [
         301,
         "Wankhede Stadium",
         "Mumbai",
         33108
        ],
        [
         302,
         "M. A. Chidambaram Stadium",
         "Chennai",
         null
        ],
        [
         303,
         "Arun Jaitley Stadium",
         "Delhi",
         41820
        ],
        [
         304,
         "Eden Gardens",
         "Kolkata",
         66000
        ],
        [
         305,
         "Rajiv Gandhi Intl. Cricket Stadium",
         null,
         55000
        ]
       ],
       "datasetInfos": [],
       "dbfsResultPath": null,
       "isJsonSchema": true,
       "metadata": {},
       "overflow": false,
       "plotOptions": {
        "customPlotOptions": {},
        "displayType": "table",
        "pivotAggregation": null,
        "pivotColumns": null,
        "xColumns": null,
        "yColumns": null
       },
       "removedWidgets": [],
       "schema": [
        {
         "metadata": "{}",
         "name": "stadium_id",
         "type": "\"integer\""
        },
        {
         "metadata": "{}",
         "name": "stadium_name",
         "type": "\"string\""
        },
        {
         "metadata": "{}",
         "name": "city",
         "type": "\"string\""
        },
        {
         "metadata": "{}",
         "name": "capacity",
         "type": "\"integer\""
        }
       ],
       "type": "table"
      }
     },
     "output_type": "display_data"
    }
   ],
   "source": [
    "try:\n",
    "    df_stadium=spark.read.csv('abfss://raw@newstorage1210.dfs.core.windows.net/stadium.csv', header=True, inferSchema=True)\n",
    "    df_stadium.display()\n",
    "    log_data.append([current_time, \"Success\"])\n",
    "except Exception as e:\n",
    "    log_data.append([current_time, \"Error\"])    "
   ]
  },
  {
   "cell_type": "code",
   "execution_count": 0,
   "metadata": {
    "application/vnd.databricks.v1+cell": {
     "cellMetadata": {
      "byteLimit": 2048000,
      "rowLimit": 10000
     },
     "inputWidgets": {},
     "nuid": "e7da02b2-8702-484b-85ae-ca2cfbbfc606",
     "showTitle": false,
     "tableResultSettingsMap": {},
     "title": ""
    }
   },
   "outputs": [
    {
     "output_type": "display_data",
     "data": {
      "text/html": [
       "<style scoped>\n",
       "  .table-result-container {\n",
       "    max-height: 300px;\n",
       "    overflow: auto;\n",
       "  }\n",
       "  table, th, td {\n",
       "    border: 1px solid black;\n",
       "    border-collapse: collapse;\n",
       "  }\n",
       "  th, td {\n",
       "    padding: 5px;\n",
       "  }\n",
       "  th {\n",
       "    text-align: left;\n",
       "  }\n",
       "</style><div class='table-result-container'><table class='table-result'><thead style='background-color: white'><tr><th>player_id</th><th>player_name</th><th>team_id</th><th>player_role</th></tr></thead><tbody><tr><td>101</td><td>Thomas Mendez</td><td>1</td><td>All-rounder</td></tr><tr><td>102</td><td>Laurie Brooks</td><td>5</td><td>Batsman</td></tr><tr><td>103</td><td>Warren Morgan</td><td>5</td><td>All-rounder</td></tr><tr><td>104</td><td>Amber Bell</td><td>2</td><td>Bowler</td></tr><tr><td>105</td><td>Shawn Bowers</td><td>1</td><td>Batsman</td></tr><tr><td>106</td><td>null</td><td>2</td><td>Bowler</td></tr><tr><td>107</td><td>Autumn Chang</td><td>3</td><td>All-rounder</td></tr><tr><td>108</td><td>Jared Knox</td><td>2</td><td>Bowler</td></tr><tr><td>109</td><td>Kevin Conrad</td><td>2</td><td>Bowler</td></tr><tr><td>110</td><td>Alan Padilla</td><td>4</td><td>All-rounder</td></tr><tr><td>111</td><td>Tim Powers</td><td>4</td><td>null</td></tr><tr><td>112</td><td>Brian Berry</td><td>3</td><td>Bowler</td></tr><tr><td>113</td><td>Joseph Meadows</td><td>5</td><td>Batsman</td></tr><tr><td>114</td><td>Joshua Baird</td><td>2</td><td>Bowler</td></tr><tr><td>115</td><td>Breanna Jackson</td><td>4</td><td>All-rounder</td></tr><tr><td>116</td><td>Bruce Morales</td><td>1</td><td>All-rounder</td></tr><tr><td>117</td><td>Craig Daniels</td><td>5</td><td>All-rounder</td></tr><tr><td>118</td><td>Michael Martinez</td><td>3</td><td>All-rounder</td></tr><tr><td>119</td><td>Brooke Jenkins</td><td>5</td><td>All-rounder</td></tr><tr><td>120</td><td>Justin White</td><td>1</td><td>Batsman</td></tr></tbody></table></div>"
      ]
     },
     "metadata": {
      "application/vnd.databricks.v1+output": {
       "addedWidgets": {},
       "aggData": [],
       "aggError": "",
       "aggOverflow": false,
       "aggSchema": [],
       "aggSeriesLimitReached": false,
       "aggType": "",
       "arguments": {},
       "columnCustomDisplayInfos": {},
       "data": [
        [
         101,
         "Thomas Mendez",
         1,
         "All-rounder"
        ],
        [
         102,
         "Laurie Brooks",
         5,
         "Batsman"
        ],
        [
         103,
         "Warren Morgan",
         5,
         "All-rounder"
        ],
        [
         104,
         "Amber Bell",
         2,
         "Bowler"
        ],
        [
         105,
         "Shawn Bowers",
         1,
         "Batsman"
        ],
        [
         106,
         null,
         2,
         "Bowler"
        ],
        [
         107,
         "Autumn Chang",
         3,
         "All-rounder"
        ],
        [
         108,
         "Jared Knox",
         2,
         "Bowler"
        ],
        [
         109,
         "Kevin Conrad",
         2,
         "Bowler"
        ],
        [
         110,
         "Alan Padilla",
         4,
         "All-rounder"
        ],
        [
         111,
         "Tim Powers",
         4,
         null
        ],
        [
         112,
         "Brian Berry",
         3,
         "Bowler"
        ],
        [
         113,
         "Joseph Meadows",
         5,
         "Batsman"
        ],
        [
         114,
         "Joshua Baird",
         2,
         "Bowler"
        ],
        [
         115,
         "Breanna Jackson",
         4,
         "All-rounder"
        ],
        [
         116,
         "Bruce Morales",
         1,
         "All-rounder"
        ],
        [
         117,
         "Craig Daniels",
         5,
         "All-rounder"
        ],
        [
         118,
         "Michael Martinez",
         3,
         "All-rounder"
        ],
        [
         119,
         "Brooke Jenkins",
         5,
         "All-rounder"
        ],
        [
         120,
         "Justin White",
         1,
         "Batsman"
        ]
       ],
       "datasetInfos": [],
       "dbfsResultPath": null,
       "isJsonSchema": true,
       "metadata": {},
       "overflow": false,
       "plotOptions": {
        "customPlotOptions": {},
        "displayType": "table",
        "pivotAggregation": null,
        "pivotColumns": null,
        "xColumns": null,
        "yColumns": null
       },
       "removedWidgets": [],
       "schema": [
        {
         "metadata": "{}",
         "name": "player_id",
         "type": "\"integer\""
        },
        {
         "metadata": "{}",
         "name": "player_name",
         "type": "\"string\""
        },
        {
         "metadata": "{}",
         "name": "team_id",
         "type": "\"integer\""
        },
        {
         "metadata": "{}",
         "name": "player_role",
         "type": "\"string\""
        }
       ],
       "type": "table"
      }
     },
     "output_type": "display_data"
    }
   ],
   "source": [
    "try:\n",
    "    df_player_team=spark.read.csv('abfss://raw@newstorage1210.dfs.core.windows.net/player_team.csv', header=True, inferSchema=True)\n",
    "    df_player_team.display()\n",
    "    log_data.append([current_time, \"Success\"])\n",
    "except Exception as e:\n",
    "    log_data.append([current_time, \"Error\"])    \n",
    "    "
   ]
  },
  {
   "cell_type": "code",
   "execution_count": 0,
   "metadata": {
    "application/vnd.databricks.v1+cell": {
     "cellMetadata": {
      "byteLimit": 2048000,
      "rowLimit": 10000
     },
     "inputWidgets": {},
     "nuid": "c54814fd-c4c4-4248-9933-0128d90ec241",
     "showTitle": false,
     "tableResultSettingsMap": {},
     "title": ""
    }
   },
   "outputs": [
    {
     "output_type": "display_data",
     "data": {
      "text/html": [
       "<style scoped>\n",
       "  .table-result-container {\n",
       "    max-height: 300px;\n",
       "    overflow: auto;\n",
       "  }\n",
       "  table, th, td {\n",
       "    border: 1px solid black;\n",
       "    border-collapse: collapse;\n",
       "  }\n",
       "  th, td {\n",
       "    padding: 5px;\n",
       "  }\n",
       "  th {\n",
       "    text-align: left;\n",
       "  }\n",
       "</style><div class='table-result-container'><table class='table-result'><thead style='background-color: white'><tr><th>match_id</th><th>stadium_id</th></tr></thead><tbody><tr><td>201</td><td>301</td></tr><tr><td>202</td><td>304</td></tr><tr><td>203</td><td>302</td></tr><tr><td>204</td><td>304</td></tr><tr><td>205</td><td>304</td></tr><tr><td>206</td><td>305</td></tr><tr><td>207</td><td>305</td></tr><tr><td>208</td><td>302</td></tr><tr><td>209</td><td>301</td></tr><tr><td>210</td><td>305</td></tr><tr><td>211</td><td>301</td></tr><tr><td>212</td><td>303</td></tr><tr><td>213</td><td>302</td></tr><tr><td>214</td><td>302</td></tr><tr><td>215</td><td>305</td></tr><tr><td>216</td><td>303</td></tr><tr><td>217</td><td>303</td></tr><tr><td>218</td><td>304</td></tr><tr><td>219</td><td>303</td></tr><tr><td>220</td><td>304</td></tr></tbody></table></div>"
      ]
     },
     "metadata": {
      "application/vnd.databricks.v1+output": {
       "addedWidgets": {},
       "aggData": [],
       "aggError": "",
       "aggOverflow": false,
       "aggSchema": [],
       "aggSeriesLimitReached": false,
       "aggType": "",
       "arguments": {},
       "columnCustomDisplayInfos": {},
       "data": [
        [
         201,
         301
        ],
        [
         202,
         304
        ],
        [
         203,
         302
        ],
        [
         204,
         304
        ],
        [
         205,
         304
        ],
        [
         206,
         305
        ],
        [
         207,
         305
        ],
        [
         208,
         302
        ],
        [
         209,
         301
        ],
        [
         210,
         305
        ],
        [
         211,
         301
        ],
        [
         212,
         303
        ],
        [
         213,
         302
        ],
        [
         214,
         302
        ],
        [
         215,
         305
        ],
        [
         216,
         303
        ],
        [
         217,
         303
        ],
        [
         218,
         304
        ],
        [
         219,
         303
        ],
        [
         220,
         304
        ]
       ],
       "datasetInfos": [],
       "dbfsResultPath": null,
       "isJsonSchema": true,
       "metadata": {},
       "overflow": false,
       "plotOptions": {
        "customPlotOptions": {},
        "displayType": "table",
        "pivotAggregation": null,
        "pivotColumns": null,
        "xColumns": null,
        "yColumns": null
       },
       "removedWidgets": [],
       "schema": [
        {
         "metadata": "{}",
         "name": "match_id",
         "type": "\"integer\""
        },
        {
         "metadata": "{}",
         "name": "stadium_id",
         "type": "\"integer\""
        }
       ],
       "type": "table"
      }
     },
     "output_type": "display_data"
    }
   ],
   "source": [
    "try:\n",
    "    df_match_stadium=spark.read.csv('abfss://raw@newstorage1210.dfs.core.windows.net/match_stadium.csv', header=True, inferSchema=True)\n",
    "    df_match_stadium.display()\n",
    "    log_data.append([current_time, \"Success\"])\n",
    "except Exception as e:\n",
    "    log_data.append([current_time, \"Error\"])    \n",
    "   "
   ]
  },
  {
   "cell_type": "code",
   "execution_count": 0,
   "metadata": {
    "application/vnd.databricks.v1+cell": {
     "cellMetadata": {
      "byteLimit": 2048000,
      "rowLimit": 10000
     },
     "inputWidgets": {},
     "nuid": "b86250dd-6665-401d-9d6a-e3e5641623ee",
     "showTitle": false,
     "tableResultSettingsMap": {},
     "title": ""
    }
   },
   "outputs": [
    {
     "output_type": "display_data",
     "data": {
      "text/html": [
       "<style scoped>\n",
       "  .table-result-container {\n",
       "    max-height: 300px;\n",
       "    overflow: auto;\n",
       "  }\n",
       "  table, th, td {\n",
       "    border: 1px solid black;\n",
       "    border-collapse: collapse;\n",
       "  }\n",
       "  th, td {\n",
       "    padding: 5px;\n",
       "  }\n",
       "  th {\n",
       "    text-align: left;\n",
       "  }\n",
       "</style><div class='table-result-container'><table class='table-result'><thead style='background-color: white'><tr><th>team_id</th><th>team_name</th><th>home_ground</th><th>captain</th></tr></thead><tbody><tr><td>1</td><td>Mumbai Indians</td><td>Wankhede Stadium</td><td>Rohit Sharma</td></tr><tr><td>2</td><td>Chennai Super Kings</td><td>M. A. Chidambaram Stadium</td><td>MS Dhoni</td></tr><tr><td>3</td><td>Delhi Capitals</td><td>null</td><td>Rishabh Pant</td></tr><tr><td>4</td><td>Kolkata Knight Riders</td><td>Eden Gardens</td><td>Shreyas Iyer</td></tr><tr><td>5</td><td>Sunrisers Hyderabad</td><td>Rajiv Gandhi Intl. Cricket Stadium</td><td>null</td></tr></tbody></table></div>"
      ]
     },
     "metadata": {
      "application/vnd.databricks.v1+output": {
       "addedWidgets": {},
       "aggData": [],
       "aggError": "",
       "aggOverflow": false,
       "aggSchema": [],
       "aggSeriesLimitReached": false,
       "aggType": "",
       "arguments": {},
       "columnCustomDisplayInfos": {},
       "data": [
        [
         1,
         "Mumbai Indians",
         "Wankhede Stadium",
         "Rohit Sharma"
        ],
        [
         2,
         "Chennai Super Kings",
         "M. A. Chidambaram Stadium",
         "MS Dhoni"
        ],
        [
         3,
         "Delhi Capitals",
         null,
         "Rishabh Pant"
        ],
        [
         4,
         "Kolkata Knight Riders",
         "Eden Gardens",
         "Shreyas Iyer"
        ],
        [
         5,
         "Sunrisers Hyderabad",
         "Rajiv Gandhi Intl. Cricket Stadium",
         null
        ]
       ],
       "datasetInfos": [],
       "dbfsResultPath": null,
       "isJsonSchema": true,
       "metadata": {},
       "overflow": false,
       "plotOptions": {
        "customPlotOptions": {},
        "displayType": "table",
        "pivotAggregation": null,
        "pivotColumns": null,
        "xColumns": null,
        "yColumns": null
       },
       "removedWidgets": [],
       "schema": [
        {
         "metadata": "{}",
         "name": "team_id",
         "type": "\"integer\""
        },
        {
         "metadata": "{}",
         "name": "team_name",
         "type": "\"string\""
        },
        {
         "metadata": "{}",
         "name": "home_ground",
         "type": "\"string\""
        },
        {
         "metadata": "{}",
         "name": "captain",
         "type": "\"string\""
        }
       ],
       "type": "table"
      }
     },
     "output_type": "display_data"
    }
   ],
   "source": [
    "df_team.display()"
   ]
  },
  {
   "cell_type": "code",
   "execution_count": 0,
   "metadata": {
    "application/vnd.databricks.v1+cell": {
     "cellMetadata": {
      "byteLimit": 2048000,
      "rowLimit": 10000
     },
     "inputWidgets": {},
     "nuid": "0e4cea9f-9a3b-4f90-a4da-dedd775a647e",
     "showTitle": false,
     "tableResultSettingsMap": {},
     "title": ""
    }
   },
   "outputs": [],
   "source": [
    "spark.conf.set(\"fs.azure.account.key.smriti1210.dfs.core.windows.net\", \"kObhK7P2+/sWkmoKnJt5YcG1kjFbBtapCHOZhCcMn8P5/KO0UsiG5zrvJgmwHVONBVvzqcc3HxZT+AStPxjVDQ==\")"
   ]
  },
  {
   "cell_type": "markdown",
   "metadata": {
    "application/vnd.databricks.v1+cell": {
     "cellMetadata": {
      "byteLimit": 2048000,
      "rowLimit": 10000
     },
     "inputWidgets": {},
     "nuid": "87fec330-69fa-496f-8015-984503030cb2",
     "showTitle": false,
     "tableResultSettingsMap": {},
     "title": ""
    }
   },
   "source": [
    "**Save as Parquet in Bronze Layer**"
   ]
  },
  {
   "cell_type": "code",
   "execution_count": 0,
   "metadata": {
    "application/vnd.databricks.v1+cell": {
     "cellMetadata": {
      "byteLimit": 2048000,
      "rowLimit": 10000
     },
     "inputWidgets": {},
     "nuid": "e766d9a4-03ac-4f03-b6f1-e9300e9a33de",
     "showTitle": false,
     "tableResultSettingsMap": {},
     "title": ""
    }
   },
   "outputs": [],
   "source": [
    "try:\n",
    "   df_team.write.mode(\"overwrite\").parquet(\"abfss://bronze@smriti1210.dfs.core.windows.net/team_bronze.parquet\")\n",
    "   df_player_team.write.mode(\"overwrite\").parquet(\"abfss://bronze@smriti1210.dfs.core.windows.net/player_team_bronze.parquet\")\n",
    "   df_match_perf.write.mode(\"overwrite\").parquet(\"abfss://bronze@smriti1210.dfs.core.windows.net/match_performance_bronze.parquet\")\n",
    "   df_stadium.write.mode(\"overwrite\").parquet(\"abfss://bronze@smriti1210.dfs.core.windows.net/stadium_bronze.parquet\")\n",
    "   df_match_stadium.write.mode(\"overwrite\").parquet(\"abfss://bronze@smriti1210.dfs.core.windows.net/match_stadium_bronze.parquet\")\n",
    "   df_player_perf.write.mode(\"overwrite\").parquet(\"abfss://bronze@smriti1210.dfs.core.windows.net/player_performance_bronze.parquet\")\n",
    "   log_data.append([current_time, \"Success\"])\n",
    "except Exception as e:\n",
    "    log_data.append([current_time, \"Error\"])    "
   ]
  },
  {
   "cell_type": "markdown",
   "metadata": {
    "application/vnd.databricks.v1+cell": {
     "cellMetadata": {
      "byteLimit": 2048000,
      "rowLimit": 10000
     },
     "inputWidgets": {},
     "nuid": "cb43badb-0121-457f-9ad6-19a0d90a3f16",
     "showTitle": false,
     "tableResultSettingsMap": {},
     "title": ""
    }
   },
   "source": [
    "**Verify data**"
   ]
  },
  {
   "cell_type": "code",
   "execution_count": 0,
   "metadata": {
    "application/vnd.databricks.v1+cell": {
     "cellMetadata": {
      "byteLimit": 2048000,
      "rowLimit": 10000
     },
     "inputWidgets": {},
     "nuid": "ae84ce6a-e15b-41e3-a1fa-12c618c9f6b8",
     "showTitle": false,
     "tableResultSettingsMap": {},
     "title": ""
    }
   },
   "outputs": [
    {
     "output_type": "execute_result",
     "data": {
      "text/plain": [
       "[FileInfo(path='abfss://bronze@smriti1210.dfs.core.windows.net/match_performance_bronze.parquet/', name='match_performance_bronze.parquet/', size=0, modificationTime=1743845218000),\n",
       " FileInfo(path='abfss://bronze@smriti1210.dfs.core.windows.net/match_stadium_bronze.parquet/', name='match_stadium_bronze.parquet/', size=0, modificationTime=1743845219000),\n",
       " FileInfo(path='abfss://bronze@smriti1210.dfs.core.windows.net/player_performance_bronze.parquet/', name='player_performance_bronze.parquet/', size=0, modificationTime=1743845220000),\n",
       " FileInfo(path='abfss://bronze@smriti1210.dfs.core.windows.net/player_team_bronze.parquet/', name='player_team_bronze.parquet/', size=0, modificationTime=1743845218000),\n",
       " FileInfo(path='abfss://bronze@smriti1210.dfs.core.windows.net/stadium_bronze.parquet/', name='stadium_bronze.parquet/', size=0, modificationTime=1743845219000),\n",
       " FileInfo(path='abfss://bronze@smriti1210.dfs.core.windows.net/team_bronze.parquet/', name='team_bronze.parquet/', size=0, modificationTime=1743845217000)]"
      ]
     },
     "execution_count": 68,
     "metadata": {},
     "output_type": "execute_result"
    }
   ],
   "source": [
    "dbutils.fs.ls(\"abfss://bronze@smriti1210.dfs.core.windows.net/\")"
   ]
  },
  {
   "cell_type": "markdown",
   "metadata": {
    "application/vnd.databricks.v1+cell": {
     "cellMetadata": {
      "byteLimit": 2048000,
      "rowLimit": 10000
     },
     "inputWidgets": {},
     "nuid": "e5580d14-a1bb-441e-8e05-6fda21ccf595",
     "showTitle": false,
     "tableResultSettingsMap": {},
     "title": ""
    }
   },
   "source": [
    "**Save as Parquet in silver Layer**"
   ]
  },
  {
   "cell_type": "code",
   "execution_count": 0,
   "metadata": {
    "application/vnd.databricks.v1+cell": {
     "cellMetadata": {
      "byteLimit": 2048000,
      "rowLimit": 10000
     },
     "inputWidgets": {},
     "nuid": "14c4902e-49ec-4da0-a2e0-1a37e8917800",
     "showTitle": false,
     "tableResultSettingsMap": {},
     "title": ""
    }
   },
   "outputs": [],
   "source": [
    "try:\n",
    "    df_team.write.mode(\"overwrite\").parquet(\"abfss://silver@smriti1210.dfs.core.windows.net/team_silver.parquet\")\n",
    "    df_player_team.write.mode(\"overwrite\").parquet(\"abfss://silver@smriti1210.dfs.core.windows.net/player_team_silver.parquet\")\n",
    "    df_match_perf.write.mode(\"overwrite\").parquet(\"abfss://silver@smriti1210.dfs.core.windows.net/match_performance_silver.parquet\")\n",
    "    df_stadium.write.mode(\"overwrite\").parquet(\"abfss://silver@smriti1210.dfs.core.windows.net/stadium_silver.parquet\")\n",
    "    df_match_stadium.write.mode(\"overwrite\").parquet(\"abfss://silver@smriti1210.dfs.core.windows.net/match_stadium_silver.parquet\")\n",
    "    df_player_perf.write.mode(\"overwrite\").parquet(\"abfss://silver@smriti1210.dfs.core.windows.net/player_performance_silver.parquet\") \n",
    "    log_data.append([current_time, \"Success\"])\n",
    "except Exception as e:\n",
    "    log_data.append([current_time, \"Error\"])    "
   ]
  },
  {
   "cell_type": "code",
   "execution_count": 0,
   "metadata": {
    "application/vnd.databricks.v1+cell": {
     "cellMetadata": {
      "byteLimit": 2048000,
      "rowLimit": 10000
     },
     "inputWidgets": {},
     "nuid": "853cba17-1ab8-441b-a580-b749b9604803",
     "showTitle": false,
     "tableResultSettingsMap": {},
     "title": ""
    }
   },
   "outputs": [],
   "source": []
  }
 ],
 "metadata": {
  "application/vnd.databricks.v1+notebook": {
   "computePreferences": null,
   "dashboards": [],
   "environmentMetadata": {
    "base_environment": "",
    "environment_version": "2"
   },
   "inputWidgetPreferences": null,
   "language": "python",
   "notebookMetadata": {
    "pythonIndentUnit": 4
   },
   "notebookName": "BRONZE LAYER 2025-04-04 12:43:30",
   "widgets": {}
  },
  "language_info": {
   "name": "python"
  }
 },
 "nbformat": 4,
 "nbformat_minor": 0
}